{
  "cells": [
    {
      "cell_type": "markdown",
      "metadata": {
        "id": "view-in-github",
        "colab_type": "text"
      },
      "source": [
        "<a href=\"https://colab.research.google.com/github/nkouroup-design/class2/blob/main/In_Class_Assignment_3.ipynb\" target=\"_parent\"><img src=\"https://colab.research.google.com/assets/colab-badge.svg\" alt=\"Open In Colab\"/></a>"
      ]
    },
    {
      "cell_type": "markdown",
      "metadata": {
        "id": "JGd6Ou0ioBeF"
      },
      "source": [
        "# In-class assignment 3\n",
        "## Pandas Basics and Trasforming Data with Pandas\n",
        "\n",
        "This notebook contains Python problems you need to complete. Write your codes directly here. Save your code and upload this file to Gradescope Note that there may be some hidden tests, so you may not get full points if these tests fail. Do not be misled by the message \"q# passed!\", which simply means the autograder has successfully graded the question."
      ]
    },
    {
      "cell_type": "markdown",
      "metadata": {
        "id": "d-w0W2P0oBeH"
      },
      "source": [
        "## Importing a csv file and gathering information about the dataset\n",
        "- Use the `read_csv()`, `info()`, `describe` to obtain more information about the dataset.  \n",
        "- The header and index_col arguments are one of the frequently used options.  Read and understand what they are for.\n",
        "- For Jupyter Notebook, press SHIFT+TAB for a quick documentation access.  For Google Colab, you just need to move you mouse over the method name, e.g., `read_csv()`."
      ]
    },
    {
      "cell_type": "code",
      "execution_count": 3,
      "metadata": {
        "id": "iCGdMXRFoBeI",
        "colab": {
          "base_uri": "https://localhost:8080/",
          "height": 73
        },
        "outputId": "4b6c237d-8c4e-4650-a43b-ae3c3479241d"
      },
      "outputs": [
        {
          "output_type": "display_data",
          "data": {
            "text/plain": [
              "<IPython.core.display.HTML object>"
            ],
            "text/html": [
              "\n",
              "     <input type=\"file\" id=\"files-158e7220-7128-4393-b71d-cf4d0fad31dc\" name=\"files[]\" multiple disabled\n",
              "        style=\"border:none\" />\n",
              "     <output id=\"result-158e7220-7128-4393-b71d-cf4d0fad31dc\">\n",
              "      Upload widget is only available when the cell has been executed in the\n",
              "      current browser session. Please rerun this cell to enable.\n",
              "      </output>\n",
              "      <script>// Copyright 2017 Google LLC\n",
              "//\n",
              "// Licensed under the Apache License, Version 2.0 (the \"License\");\n",
              "// you may not use this file except in compliance with the License.\n",
              "// You may obtain a copy of the License at\n",
              "//\n",
              "//      http://www.apache.org/licenses/LICENSE-2.0\n",
              "//\n",
              "// Unless required by applicable law or agreed to in writing, software\n",
              "// distributed under the License is distributed on an \"AS IS\" BASIS,\n",
              "// WITHOUT WARRANTIES OR CONDITIONS OF ANY KIND, either express or implied.\n",
              "// See the License for the specific language governing permissions and\n",
              "// limitations under the License.\n",
              "\n",
              "/**\n",
              " * @fileoverview Helpers for google.colab Python module.\n",
              " */\n",
              "(function(scope) {\n",
              "function span(text, styleAttributes = {}) {\n",
              "  const element = document.createElement('span');\n",
              "  element.textContent = text;\n",
              "  for (const key of Object.keys(styleAttributes)) {\n",
              "    element.style[key] = styleAttributes[key];\n",
              "  }\n",
              "  return element;\n",
              "}\n",
              "\n",
              "// Max number of bytes which will be uploaded at a time.\n",
              "const MAX_PAYLOAD_SIZE = 100 * 1024;\n",
              "\n",
              "function _uploadFiles(inputId, outputId) {\n",
              "  const steps = uploadFilesStep(inputId, outputId);\n",
              "  const outputElement = document.getElementById(outputId);\n",
              "  // Cache steps on the outputElement to make it available for the next call\n",
              "  // to uploadFilesContinue from Python.\n",
              "  outputElement.steps = steps;\n",
              "\n",
              "  return _uploadFilesContinue(outputId);\n",
              "}\n",
              "\n",
              "// This is roughly an async generator (not supported in the browser yet),\n",
              "// where there are multiple asynchronous steps and the Python side is going\n",
              "// to poll for completion of each step.\n",
              "// This uses a Promise to block the python side on completion of each step,\n",
              "// then passes the result of the previous step as the input to the next step.\n",
              "function _uploadFilesContinue(outputId) {\n",
              "  const outputElement = document.getElementById(outputId);\n",
              "  const steps = outputElement.steps;\n",
              "\n",
              "  const next = steps.next(outputElement.lastPromiseValue);\n",
              "  return Promise.resolve(next.value.promise).then((value) => {\n",
              "    // Cache the last promise value to make it available to the next\n",
              "    // step of the generator.\n",
              "    outputElement.lastPromiseValue = value;\n",
              "    return next.value.response;\n",
              "  });\n",
              "}\n",
              "\n",
              "/**\n",
              " * Generator function which is called between each async step of the upload\n",
              " * process.\n",
              " * @param {string} inputId Element ID of the input file picker element.\n",
              " * @param {string} outputId Element ID of the output display.\n",
              " * @return {!Iterable<!Object>} Iterable of next steps.\n",
              " */\n",
              "function* uploadFilesStep(inputId, outputId) {\n",
              "  const inputElement = document.getElementById(inputId);\n",
              "  inputElement.disabled = false;\n",
              "\n",
              "  const outputElement = document.getElementById(outputId);\n",
              "  outputElement.innerHTML = '';\n",
              "\n",
              "  const pickedPromise = new Promise((resolve) => {\n",
              "    inputElement.addEventListener('change', (e) => {\n",
              "      resolve(e.target.files);\n",
              "    });\n",
              "  });\n",
              "\n",
              "  const cancel = document.createElement('button');\n",
              "  inputElement.parentElement.appendChild(cancel);\n",
              "  cancel.textContent = 'Cancel upload';\n",
              "  const cancelPromise = new Promise((resolve) => {\n",
              "    cancel.onclick = () => {\n",
              "      resolve(null);\n",
              "    };\n",
              "  });\n",
              "\n",
              "  // Wait for the user to pick the files.\n",
              "  const files = yield {\n",
              "    promise: Promise.race([pickedPromise, cancelPromise]),\n",
              "    response: {\n",
              "      action: 'starting',\n",
              "    }\n",
              "  };\n",
              "\n",
              "  cancel.remove();\n",
              "\n",
              "  // Disable the input element since further picks are not allowed.\n",
              "  inputElement.disabled = true;\n",
              "\n",
              "  if (!files) {\n",
              "    return {\n",
              "      response: {\n",
              "        action: 'complete',\n",
              "      }\n",
              "    };\n",
              "  }\n",
              "\n",
              "  for (const file of files) {\n",
              "    const li = document.createElement('li');\n",
              "    li.append(span(file.name, {fontWeight: 'bold'}));\n",
              "    li.append(span(\n",
              "        `(${file.type || 'n/a'}) - ${file.size} bytes, ` +\n",
              "        `last modified: ${\n",
              "            file.lastModifiedDate ? file.lastModifiedDate.toLocaleDateString() :\n",
              "                                    'n/a'} - `));\n",
              "    const percent = span('0% done');\n",
              "    li.appendChild(percent);\n",
              "\n",
              "    outputElement.appendChild(li);\n",
              "\n",
              "    const fileDataPromise = new Promise((resolve) => {\n",
              "      const reader = new FileReader();\n",
              "      reader.onload = (e) => {\n",
              "        resolve(e.target.result);\n",
              "      };\n",
              "      reader.readAsArrayBuffer(file);\n",
              "    });\n",
              "    // Wait for the data to be ready.\n",
              "    let fileData = yield {\n",
              "      promise: fileDataPromise,\n",
              "      response: {\n",
              "        action: 'continue',\n",
              "      }\n",
              "    };\n",
              "\n",
              "    // Use a chunked sending to avoid message size limits. See b/62115660.\n",
              "    let position = 0;\n",
              "    do {\n",
              "      const length = Math.min(fileData.byteLength - position, MAX_PAYLOAD_SIZE);\n",
              "      const chunk = new Uint8Array(fileData, position, length);\n",
              "      position += length;\n",
              "\n",
              "      const base64 = btoa(String.fromCharCode.apply(null, chunk));\n",
              "      yield {\n",
              "        response: {\n",
              "          action: 'append',\n",
              "          file: file.name,\n",
              "          data: base64,\n",
              "        },\n",
              "      };\n",
              "\n",
              "      let percentDone = fileData.byteLength === 0 ?\n",
              "          100 :\n",
              "          Math.round((position / fileData.byteLength) * 100);\n",
              "      percent.textContent = `${percentDone}% done`;\n",
              "\n",
              "    } while (position < fileData.byteLength);\n",
              "  }\n",
              "\n",
              "  // All done.\n",
              "  yield {\n",
              "    response: {\n",
              "      action: 'complete',\n",
              "    }\n",
              "  };\n",
              "}\n",
              "\n",
              "scope.google = scope.google || {};\n",
              "scope.google.colab = scope.google.colab || {};\n",
              "scope.google.colab._files = {\n",
              "  _uploadFiles,\n",
              "  _uploadFilesContinue,\n",
              "};\n",
              "})(self);\n",
              "</script> "
            ]
          },
          "metadata": {}
        },
        {
          "output_type": "stream",
          "name": "stdout",
          "text": [
            "Saving Basic_Stats.csv to Basic_Stats.csv\n"
          ]
        }
      ],
      "source": [
        "import numpy as np\n",
        "import pandas as pd\n",
        "\n",
        "from google.colab import files\n",
        "uploaded = files.upload()"
      ]
    },
    {
      "cell_type": "code",
      "execution_count": 4,
      "metadata": {
        "id": "YsZATtEEoBeJ",
        "colab": {
          "base_uri": "https://localhost:8080/",
          "height": 675
        },
        "outputId": "6ee5eeea-27fc-44f8-9dcd-beb0af05d205"
      },
      "outputs": [
        {
          "output_type": "display_data",
          "data": {
            "text/plain": [
              "    Age   Birth Place   Birthday           College Current Status  \\\n",
              "4    25  Detroit , MI  3/31/1992  Central Michigan         Active   \n",
              "7    22  Navarre , FL  1/31/1995           Clemson         Active   \n",
              "17   25           NaN  3/11/1992        Pittsburgh         Active   \n",
              "35   29   Dayton , OH   4/1/1988        Ohio State         Active   \n",
              "37   26    Rodeo , CA  7/28/1990           Ohio U.         Active   \n",
              "\n",
              "           Current Team  Experience  Height (inches)     High School  \\\n",
              "4   Pittsburgh Steelers  3rd season               77  Clintondale HS   \n",
              "7         New York Jets      Rookie               77      Navarre HS   \n",
              "17  Washington Redskins  1st season               74             NaN   \n",
              "35    Carolina Panthers  8th season               71    Northmont HS   \n",
              "37      Oakland Raiders  4th season               72  De La Salle HS   \n",
              "\n",
              "           High School Location              Name  Number  \\\n",
              "4   Clinton Twp.,Macomb Co., MI      Walton, L.T.    96.0   \n",
              "7                            FL   Leggett, Jordan     NaN   \n",
              "17                          NaN  Garner, Manasseh     NaN   \n",
              "35                  Clayton, OH     Coleman, Kurt    20.0   \n",
              "37                  Concord, CA      Carrie, T.J.    38.0   \n",
              "\n",
              "                 Player Id Position  Weight (lbs) Years Played  \n",
              "4       l.t.walton/2552444       DE           305          NaN  \n",
              "7    jordanleggett/2557885       TE           250          NaN  \n",
              "17  manassehgarner/2553801       TE           220          NaN  \n",
              "35      kurtcoleman/494261       SS           200          NaN  \n",
              "37      t.j.carrie/2550164       SS           205          NaN  "
            ],
            "text/html": [
              "\n",
              "  <div id=\"df-dc93bf83-0262-49e2-af81-3edb279b9e77\" class=\"colab-df-container\">\n",
              "    <div>\n",
              "<style scoped>\n",
              "    .dataframe tbody tr th:only-of-type {\n",
              "        vertical-align: middle;\n",
              "    }\n",
              "\n",
              "    .dataframe tbody tr th {\n",
              "        vertical-align: top;\n",
              "    }\n",
              "\n",
              "    .dataframe thead th {\n",
              "        text-align: right;\n",
              "    }\n",
              "</style>\n",
              "<table border=\"1\" class=\"dataframe\">\n",
              "  <thead>\n",
              "    <tr style=\"text-align: right;\">\n",
              "      <th></th>\n",
              "      <th>Age</th>\n",
              "      <th>Birth Place</th>\n",
              "      <th>Birthday</th>\n",
              "      <th>College</th>\n",
              "      <th>Current Status</th>\n",
              "      <th>Current Team</th>\n",
              "      <th>Experience</th>\n",
              "      <th>Height (inches)</th>\n",
              "      <th>High School</th>\n",
              "      <th>High School Location</th>\n",
              "      <th>Name</th>\n",
              "      <th>Number</th>\n",
              "      <th>Player Id</th>\n",
              "      <th>Position</th>\n",
              "      <th>Weight (lbs)</th>\n",
              "      <th>Years Played</th>\n",
              "    </tr>\n",
              "  </thead>\n",
              "  <tbody>\n",
              "    <tr>\n",
              "      <th>4</th>\n",
              "      <td>25</td>\n",
              "      <td>Detroit , MI</td>\n",
              "      <td>3/31/1992</td>\n",
              "      <td>Central Michigan</td>\n",
              "      <td>Active</td>\n",
              "      <td>Pittsburgh Steelers</td>\n",
              "      <td>3rd season</td>\n",
              "      <td>77</td>\n",
              "      <td>Clintondale HS</td>\n",
              "      <td>Clinton Twp.,Macomb Co., MI</td>\n",
              "      <td>Walton, L.T.</td>\n",
              "      <td>96.0</td>\n",
              "      <td>l.t.walton/2552444</td>\n",
              "      <td>DE</td>\n",
              "      <td>305</td>\n",
              "      <td>NaN</td>\n",
              "    </tr>\n",
              "    <tr>\n",
              "      <th>7</th>\n",
              "      <td>22</td>\n",
              "      <td>Navarre , FL</td>\n",
              "      <td>1/31/1995</td>\n",
              "      <td>Clemson</td>\n",
              "      <td>Active</td>\n",
              "      <td>New York Jets</td>\n",
              "      <td>Rookie</td>\n",
              "      <td>77</td>\n",
              "      <td>Navarre HS</td>\n",
              "      <td>FL</td>\n",
              "      <td>Leggett, Jordan</td>\n",
              "      <td>NaN</td>\n",
              "      <td>jordanleggett/2557885</td>\n",
              "      <td>TE</td>\n",
              "      <td>250</td>\n",
              "      <td>NaN</td>\n",
              "    </tr>\n",
              "    <tr>\n",
              "      <th>17</th>\n",
              "      <td>25</td>\n",
              "      <td>NaN</td>\n",
              "      <td>3/11/1992</td>\n",
              "      <td>Pittsburgh</td>\n",
              "      <td>Active</td>\n",
              "      <td>Washington Redskins</td>\n",
              "      <td>1st season</td>\n",
              "      <td>74</td>\n",
              "      <td>NaN</td>\n",
              "      <td>NaN</td>\n",
              "      <td>Garner, Manasseh</td>\n",
              "      <td>NaN</td>\n",
              "      <td>manassehgarner/2553801</td>\n",
              "      <td>TE</td>\n",
              "      <td>220</td>\n",
              "      <td>NaN</td>\n",
              "    </tr>\n",
              "    <tr>\n",
              "      <th>35</th>\n",
              "      <td>29</td>\n",
              "      <td>Dayton , OH</td>\n",
              "      <td>4/1/1988</td>\n",
              "      <td>Ohio State</td>\n",
              "      <td>Active</td>\n",
              "      <td>Carolina Panthers</td>\n",
              "      <td>8th season</td>\n",
              "      <td>71</td>\n",
              "      <td>Northmont HS</td>\n",
              "      <td>Clayton, OH</td>\n",
              "      <td>Coleman, Kurt</td>\n",
              "      <td>20.0</td>\n",
              "      <td>kurtcoleman/494261</td>\n",
              "      <td>SS</td>\n",
              "      <td>200</td>\n",
              "      <td>NaN</td>\n",
              "    </tr>\n",
              "    <tr>\n",
              "      <th>37</th>\n",
              "      <td>26</td>\n",
              "      <td>Rodeo , CA</td>\n",
              "      <td>7/28/1990</td>\n",
              "      <td>Ohio U.</td>\n",
              "      <td>Active</td>\n",
              "      <td>Oakland Raiders</td>\n",
              "      <td>4th season</td>\n",
              "      <td>72</td>\n",
              "      <td>De La Salle HS</td>\n",
              "      <td>Concord, CA</td>\n",
              "      <td>Carrie, T.J.</td>\n",
              "      <td>38.0</td>\n",
              "      <td>t.j.carrie/2550164</td>\n",
              "      <td>SS</td>\n",
              "      <td>205</td>\n",
              "      <td>NaN</td>\n",
              "    </tr>\n",
              "  </tbody>\n",
              "</table>\n",
              "</div>\n",
              "    <div class=\"colab-df-buttons\">\n",
              "\n",
              "  <div class=\"colab-df-container\">\n",
              "    <button class=\"colab-df-convert\" onclick=\"convertToInteractive('df-dc93bf83-0262-49e2-af81-3edb279b9e77')\"\n",
              "            title=\"Convert this dataframe to an interactive table.\"\n",
              "            style=\"display:none;\">\n",
              "\n",
              "  <svg xmlns=\"http://www.w3.org/2000/svg\" height=\"24px\" viewBox=\"0 -960 960 960\">\n",
              "    <path d=\"M120-120v-720h720v720H120Zm60-500h600v-160H180v160Zm220 220h160v-160H400v160Zm0 220h160v-160H400v160ZM180-400h160v-160H180v160Zm440 0h160v-160H620v160ZM180-180h160v-160H180v160Zm440 0h160v-160H620v160Z\"/>\n",
              "  </svg>\n",
              "    </button>\n",
              "\n",
              "  <style>\n",
              "    .colab-df-container {\n",
              "      display:flex;\n",
              "      gap: 12px;\n",
              "    }\n",
              "\n",
              "    .colab-df-convert {\n",
              "      background-color: #E8F0FE;\n",
              "      border: none;\n",
              "      border-radius: 50%;\n",
              "      cursor: pointer;\n",
              "      display: none;\n",
              "      fill: #1967D2;\n",
              "      height: 32px;\n",
              "      padding: 0 0 0 0;\n",
              "      width: 32px;\n",
              "    }\n",
              "\n",
              "    .colab-df-convert:hover {\n",
              "      background-color: #E2EBFA;\n",
              "      box-shadow: 0px 1px 2px rgba(60, 64, 67, 0.3), 0px 1px 3px 1px rgba(60, 64, 67, 0.15);\n",
              "      fill: #174EA6;\n",
              "    }\n",
              "\n",
              "    .colab-df-buttons div {\n",
              "      margin-bottom: 4px;\n",
              "    }\n",
              "\n",
              "    [theme=dark] .colab-df-convert {\n",
              "      background-color: #3B4455;\n",
              "      fill: #D2E3FC;\n",
              "    }\n",
              "\n",
              "    [theme=dark] .colab-df-convert:hover {\n",
              "      background-color: #434B5C;\n",
              "      box-shadow: 0px 1px 3px 1px rgba(0, 0, 0, 0.15);\n",
              "      filter: drop-shadow(0px 1px 2px rgba(0, 0, 0, 0.3));\n",
              "      fill: #FFFFFF;\n",
              "    }\n",
              "  </style>\n",
              "\n",
              "    <script>\n",
              "      const buttonEl =\n",
              "        document.querySelector('#df-dc93bf83-0262-49e2-af81-3edb279b9e77 button.colab-df-convert');\n",
              "      buttonEl.style.display =\n",
              "        google.colab.kernel.accessAllowed ? 'block' : 'none';\n",
              "\n",
              "      async function convertToInteractive(key) {\n",
              "        const element = document.querySelector('#df-dc93bf83-0262-49e2-af81-3edb279b9e77');\n",
              "        const dataTable =\n",
              "          await google.colab.kernel.invokeFunction('convertToInteractive',\n",
              "                                                    [key], {});\n",
              "        if (!dataTable) return;\n",
              "\n",
              "        const docLinkHtml = 'Like what you see? Visit the ' +\n",
              "          '<a target=\"_blank\" href=https://colab.research.google.com/notebooks/data_table.ipynb>data table notebook</a>'\n",
              "          + ' to learn more about interactive tables.';\n",
              "        element.innerHTML = '';\n",
              "        dataTable['output_type'] = 'display_data';\n",
              "        await google.colab.output.renderOutput(dataTable, element);\n",
              "        const docLink = document.createElement('div');\n",
              "        docLink.innerHTML = docLinkHtml;\n",
              "        element.appendChild(docLink);\n",
              "      }\n",
              "    </script>\n",
              "  </div>\n",
              "\n",
              "\n",
              "    <div id=\"df-b2d8862f-a82e-443b-8502-a659319c7539\">\n",
              "      <button class=\"colab-df-quickchart\" onclick=\"quickchart('df-b2d8862f-a82e-443b-8502-a659319c7539')\"\n",
              "                title=\"Suggest charts\"\n",
              "                style=\"display:none;\">\n",
              "\n",
              "<svg xmlns=\"http://www.w3.org/2000/svg\" height=\"24px\"viewBox=\"0 0 24 24\"\n",
              "     width=\"24px\">\n",
              "    <g>\n",
              "        <path d=\"M19 3H5c-1.1 0-2 .9-2 2v14c0 1.1.9 2 2 2h14c1.1 0 2-.9 2-2V5c0-1.1-.9-2-2-2zM9 17H7v-7h2v7zm4 0h-2V7h2v10zm4 0h-2v-4h2v4z\"/>\n",
              "    </g>\n",
              "</svg>\n",
              "      </button>\n",
              "\n",
              "<style>\n",
              "  .colab-df-quickchart {\n",
              "      --bg-color: #E8F0FE;\n",
              "      --fill-color: #1967D2;\n",
              "      --hover-bg-color: #E2EBFA;\n",
              "      --hover-fill-color: #174EA6;\n",
              "      --disabled-fill-color: #AAA;\n",
              "      --disabled-bg-color: #DDD;\n",
              "  }\n",
              "\n",
              "  [theme=dark] .colab-df-quickchart {\n",
              "      --bg-color: #3B4455;\n",
              "      --fill-color: #D2E3FC;\n",
              "      --hover-bg-color: #434B5C;\n",
              "      --hover-fill-color: #FFFFFF;\n",
              "      --disabled-bg-color: #3B4455;\n",
              "      --disabled-fill-color: #666;\n",
              "  }\n",
              "\n",
              "  .colab-df-quickchart {\n",
              "    background-color: var(--bg-color);\n",
              "    border: none;\n",
              "    border-radius: 50%;\n",
              "    cursor: pointer;\n",
              "    display: none;\n",
              "    fill: var(--fill-color);\n",
              "    height: 32px;\n",
              "    padding: 0;\n",
              "    width: 32px;\n",
              "  }\n",
              "\n",
              "  .colab-df-quickchart:hover {\n",
              "    background-color: var(--hover-bg-color);\n",
              "    box-shadow: 0 1px 2px rgba(60, 64, 67, 0.3), 0 1px 3px 1px rgba(60, 64, 67, 0.15);\n",
              "    fill: var(--button-hover-fill-color);\n",
              "  }\n",
              "\n",
              "  .colab-df-quickchart-complete:disabled,\n",
              "  .colab-df-quickchart-complete:disabled:hover {\n",
              "    background-color: var(--disabled-bg-color);\n",
              "    fill: var(--disabled-fill-color);\n",
              "    box-shadow: none;\n",
              "  }\n",
              "\n",
              "  .colab-df-spinner {\n",
              "    border: 2px solid var(--fill-color);\n",
              "    border-color: transparent;\n",
              "    border-bottom-color: var(--fill-color);\n",
              "    animation:\n",
              "      spin 1s steps(1) infinite;\n",
              "  }\n",
              "\n",
              "  @keyframes spin {\n",
              "    0% {\n",
              "      border-color: transparent;\n",
              "      border-bottom-color: var(--fill-color);\n",
              "      border-left-color: var(--fill-color);\n",
              "    }\n",
              "    20% {\n",
              "      border-color: transparent;\n",
              "      border-left-color: var(--fill-color);\n",
              "      border-top-color: var(--fill-color);\n",
              "    }\n",
              "    30% {\n",
              "      border-color: transparent;\n",
              "      border-left-color: var(--fill-color);\n",
              "      border-top-color: var(--fill-color);\n",
              "      border-right-color: var(--fill-color);\n",
              "    }\n",
              "    40% {\n",
              "      border-color: transparent;\n",
              "      border-right-color: var(--fill-color);\n",
              "      border-top-color: var(--fill-color);\n",
              "    }\n",
              "    60% {\n",
              "      border-color: transparent;\n",
              "      border-right-color: var(--fill-color);\n",
              "    }\n",
              "    80% {\n",
              "      border-color: transparent;\n",
              "      border-right-color: var(--fill-color);\n",
              "      border-bottom-color: var(--fill-color);\n",
              "    }\n",
              "    90% {\n",
              "      border-color: transparent;\n",
              "      border-bottom-color: var(--fill-color);\n",
              "    }\n",
              "  }\n",
              "</style>\n",
              "\n",
              "      <script>\n",
              "        async function quickchart(key) {\n",
              "          const quickchartButtonEl =\n",
              "            document.querySelector('#' + key + ' button');\n",
              "          quickchartButtonEl.disabled = true;  // To prevent multiple clicks.\n",
              "          quickchartButtonEl.classList.add('colab-df-spinner');\n",
              "          try {\n",
              "            const charts = await google.colab.kernel.invokeFunction(\n",
              "                'suggestCharts', [key], {});\n",
              "          } catch (error) {\n",
              "            console.error('Error during call to suggestCharts:', error);\n",
              "          }\n",
              "          quickchartButtonEl.classList.remove('colab-df-spinner');\n",
              "          quickchartButtonEl.classList.add('colab-df-quickchart-complete');\n",
              "        }\n",
              "        (() => {\n",
              "          let quickchartButtonEl =\n",
              "            document.querySelector('#df-b2d8862f-a82e-443b-8502-a659319c7539 button');\n",
              "          quickchartButtonEl.style.display =\n",
              "            google.colab.kernel.accessAllowed ? 'block' : 'none';\n",
              "        })();\n",
              "      </script>\n",
              "    </div>\n",
              "\n",
              "    </div>\n",
              "  </div>\n"
            ],
            "application/vnd.google.colaboratory.intrinsic+json": {
              "type": "dataframe",
              "repr_error": "0"
            }
          },
          "metadata": {}
        },
        {
          "output_type": "stream",
          "name": "stdout",
          "text": [
            "<class 'pandas.core.frame.DataFrame'>\n",
            "Index: 2956 entries, 4 to 17157\n",
            "Data columns (total 16 columns):\n",
            " #   Column                Non-Null Count  Dtype         \n",
            "---  ------                --------------  -----         \n",
            " 0   Age                   2956 non-null   Int64         \n",
            " 1   Birth Place           2513 non-null   object        \n",
            " 2   Birthday              2956 non-null   datetime64[ns]\n",
            " 3   College               2956 non-null   object        \n",
            " 4   Current Status        2956 non-null   object        \n",
            " 5   Current Team          2956 non-null   object        \n",
            " 6   Experience            2956 non-null   object        \n",
            " 7   Height (inches)       2956 non-null   Int64         \n",
            " 8   High School           2487 non-null   object        \n",
            " 9   High School Location  2483 non-null   object        \n",
            " 10  Name                  2956 non-null   object        \n",
            " 11  Number                1706 non-null   float64       \n",
            " 12  Player Id             2956 non-null   object        \n",
            " 13  Position              2956 non-null   object        \n",
            " 14  Weight (lbs)          2956 non-null   Int64         \n",
            " 15  Years Played          0 non-null      object        \n",
            "dtypes: Int64(3), datetime64[ns](1), float64(1), object(11)\n",
            "memory usage: 401.3+ KB\n"
          ]
        }
      ],
      "source": [
        "nfl = pd.read_csv(\"Basic_Stats.csv\", header=0,\n",
        "                  dtype={\"Age\":'Int64', \"Height (inches)\":'Int64', \"Weight (lbs)\":'Int64'}, skipinitialspace=True)\n",
        "# Remove the rows if Current Team is NaN\n",
        "nfl = nfl.dropna(subset=['Current Team'])\n",
        "# Change the dtype of Birthday to ISO 8601 datetime format\n",
        "display(nfl.head())\n",
        "nfl['Birthday'] = pd.to_datetime(nfl['Birthday'], format='%m/%d/%Y', errors='coerce')\n",
        "nfl = nfl.dropna(subset=['Birthday'])\n",
        "\n",
        "nfl.info()\n"
      ]
    },
    {
      "cell_type": "code",
      "execution_count": null,
      "metadata": {
        "id": "aHhkPEZdoBeJ"
      },
      "outputs": [],
      "source": [
        "nfl.describe(include='all').T # Transposed output will be displayed."
      ]
    },
    {
      "cell_type": "markdown",
      "metadata": {
        "id": "1RLEYfUcoBeJ"
      },
      "source": [
        "## Mean and Median"
      ]
    },
    {
      "cell_type": "markdown",
      "metadata": {
        "deletable": false,
        "editable": false,
        "id": "kuq0FsAMoBeJ"
      },
      "source": [
        "**Question 1 (1pt):**\n",
        "\n",
        "a. Calculate the mean age of the players and store the result (float) in a variable named `mean_age`.\n",
        "\n",
        "b. Determine the mean Weight (lbs) of the players and store the result (float) in a variable named `mean_weight`."
      ]
    },
    {
      "cell_type": "code",
      "execution_count": 5,
      "metadata": {
        "scrolled": true,
        "tags": [
          "otter_answer_cell"
        ],
        "id": "OdEg6JlJoBeK",
        "colab": {
          "base_uri": "https://localhost:8080/"
        },
        "outputId": "e7b7d14e-c60e-41a7-c60e-1007056e7222"
      },
      "outputs": [
        {
          "output_type": "execute_result",
          "data": {
            "text/plain": [
              "Ellipsis"
            ]
          },
          "metadata": {},
          "execution_count": 5
        }
      ],
      "source": [
        "# Write your coding answer here\n",
        "mean_age = nfl['Age'].mean()\n",
        "\n",
        "mean_weight = nfl['Weight (lbs)'].mean()\n",
        "\n",
        "\n",
        "..."
      ]
    },
    {
      "cell_type": "code",
      "execution_count": null,
      "metadata": {
        "tags": [
          "otter_answer_cell"
        ],
        "id": "8gS-WwIJoBeK"
      },
      "outputs": [],
      "source": [
        "#print(mean_age, mean_weight)"
      ]
    },
    {
      "cell_type": "markdown",
      "metadata": {
        "id": "9wjSVy1RoBeK"
      },
      "source": [
        "## Summarizing"
      ]
    },
    {
      "cell_type": "markdown",
      "metadata": {
        "deletable": false,
        "editable": false,
        "id": "iG5pH1BmoBeK"
      },
      "source": [
        "**Question 2 (1.5 pt):** Square brackets provide a simple way to select columns from a DataFrame.\n",
        "\n",
        "- Identify the earliest birthday (i.e., ***birthday of the oldest player***) present in the dataset and store the result in a variable named `earliest_birthday`.\n",
        "- Determine the most frequently occurring college in the College column and store the result (String) in a variable named `most_common_college`.\n",
        "- Summarize the height and weight of the players by using the aggretation functions, `mean`, `std`, and `median`, in that order to display the mean, standard deviation, and median of players's height and weight. The summary should be a DataFrame with two columns, 'Height (inches)' and 'Weight (lbs)', and three rows for mean, std, and median.\n"
      ]
    },
    {
      "cell_type": "code",
      "execution_count": null,
      "metadata": {
        "tags": [
          "otter_answer_cell"
        ],
        "id": "_BtK2qPfoBeK"
      },
      "outputs": [],
      "source": [
        "# Write your answers here.\n",
        "\n",
        "earliest_birthday = nfl['Birthday'].min()\n",
        "\n",
        "most_common_college = nfl['College'].mode().iloc[0]\n",
        "\n",
        "summary_stats = nfl[['Height (inches)', 'Weight (lbs)']].agg(['mean','std','median'])\n",
        "\n",
        "..."
      ]
    },
    {
      "cell_type": "code",
      "execution_count": null,
      "metadata": {
        "tags": [
          "otter_answer_cell"
        ],
        "id": "7Ljdzo9RoBeL"
      },
      "outputs": [],
      "source": [
        "#display(earliest_birthday, most_common_college, summary_stats)\n",
        "#display(type(earliest_birthday), type(most_common_college), type(summary_stats))"
      ]
    },
    {
      "cell_type": "markdown",
      "metadata": {
        "id": "Vv-qzENsoBeL"
      },
      "source": [
        "## Cumulative Statistics"
      ]
    },
    {
      "cell_type": "markdown",
      "metadata": {
        "deletable": false,
        "editable": false,
        "id": "aYJKYzSooBeL"
      },
      "source": [
        "**Question 3 (1 pt):**\n",
        "- Calculate the cumulative sum of the players' Weight (lbs) and store the result (a Series object) in a variable named cumulative_weight.\n",
        "- Determine the cumulative count of non-null entries in the Birth Place column and store the result(a Series object) in a variable named cumulative_birth_place. Hint: Use `.isna()` to detect null entries.  Note that `True` is considered 1 and `False` is considered 0 when arithmetic operations are applied."
      ]
    },
    {
      "cell_type": "code",
      "execution_count": 6,
      "metadata": {
        "tags": [
          "otter_answer_cell"
        ],
        "id": "TPyBf3AGoBeL",
        "colab": {
          "base_uri": "https://localhost:8080/"
        },
        "outputId": "fc56f8de-2bfa-44ca-ee0e-112d179ef2b0"
      },
      "outputs": [
        {
          "output_type": "execute_result",
          "data": {
            "text/plain": [
              "Ellipsis"
            ]
          },
          "metadata": {},
          "execution_count": 6
        }
      ],
      "source": [
        "# Write your answers here.\n",
        "cumulative_weight = nfl['Weight (lbs)'].cumsum()\n",
        "\n",
        "cumulative_birth_place = (nfl['Birth Place'].isna()).cumsum()\n",
        "\n",
        "..."
      ]
    },
    {
      "cell_type": "code",
      "execution_count": null,
      "metadata": {
        "tags": [
          "otter_answer_cell"
        ],
        "id": "F0i7XOvFoBeL"
      },
      "outputs": [],
      "source": [
        "#display(cumulative_weight, cumulative_birth_place)\n",
        "#display(type(cumulative_weight), type(cumulative_birth_place))"
      ]
    },
    {
      "cell_type": "markdown",
      "metadata": {
        "id": "GSUZ4BNgoBeL"
      },
      "source": [
        "## Dropping duplicates & setting and removing index"
      ]
    },
    {
      "cell_type": "markdown",
      "metadata": {
        "deletable": false,
        "editable": false,
        "id": "W_q3x_evoBeL"
      },
      "source": [
        "**Question 4 (1pt):**\n",
        "- Drop duplicate entries based on the `College` and `High School` columns to create a pandas.DataFrame object showing all unique combinations of `College` and `High School` players attended. Store the result in a variable named `college_hs`.\n",
        "- Reset the index of `college_hs`, dropping its contents (existing index)."
      ]
    },
    {
      "cell_type": "code",
      "execution_count": 10,
      "metadata": {
        "tags": [
          "otter_answer_cell"
        ],
        "id": "pwrp7il0oBeL",
        "colab": {
          "base_uri": "https://localhost:8080/"
        },
        "outputId": "caeeabc3-6c9e-4228-d50d-623442651c97"
      },
      "outputs": [
        {
          "output_type": "execute_result",
          "data": {
            "text/plain": [
              "Ellipsis"
            ]
          },
          "metadata": {},
          "execution_count": 10
        }
      ],
      "source": [
        "# Write your answers here.\n",
        "college_hs = nfl[['College','High School']].drop_duplicates().reset_index(drop=True)\n",
        "\n",
        "..."
      ]
    },
    {
      "cell_type": "code",
      "execution_count": null,
      "metadata": {
        "tags": [
          "otter_answer_cell"
        ],
        "id": "EGEYdJGLoBeL"
      },
      "outputs": [],
      "source": [
        "#display(college_hs)\n",
        "#display(type(college_hs))"
      ]
    },
    {
      "cell_type": "markdown",
      "metadata": {
        "deletable": false,
        "editable": false,
        "id": "slQAVUELoBeL"
      },
      "source": [
        "## Counting Categorical Variables"
      ]
    },
    {
      "cell_type": "markdown",
      "metadata": {
        "deletable": false,
        "editable": false,
        "id": "QCvDRZ3goBeL"
      },
      "source": [
        "**Question 5 (1pts):**\n",
        "- Count the number of occurrences of each unique value in the Position column, sorting the counts in descending order. Store the result in a variable named `position_count`.\n",
        "- Obtain the proportion of different status (`Current Status`) in nfl, sorting the proportions in descending order. Store the result in a variable named `status_proportion`.\n",
        "Note that the type of these count and proportion are pandas.Series."
      ]
    },
    {
      "cell_type": "code",
      "execution_count": 9,
      "metadata": {
        "tags": [
          "otter_answer_cell"
        ],
        "id": "NKbkCUyaoBeM",
        "colab": {
          "base_uri": "https://localhost:8080/"
        },
        "outputId": "d315111b-c787-4cd1-9bce-4d9777391eeb"
      },
      "outputs": [
        {
          "output_type": "execute_result",
          "data": {
            "text/plain": [
              "Ellipsis"
            ]
          },
          "metadata": {},
          "execution_count": 9
        }
      ],
      "source": [
        "# Write your answers here.\n",
        "position_count = nfl['Position'].value_counts()\n",
        "\n",
        "status_proportion = nfl['Current Status'].value_counts(normalize=True)\n",
        "..."
      ]
    },
    {
      "cell_type": "code",
      "execution_count": null,
      "metadata": {
        "tags": [
          "otter_answer_cell"
        ],
        "id": "B-mZW1qVoBeM"
      },
      "outputs": [],
      "source": [
        "#print(type(position_count), type(status_proportion))\n",
        "#print(position_count)\n",
        "#print(status_proportion)"
      ]
    },
    {
      "cell_type": "markdown",
      "metadata": {
        "id": "hgtgli6SoBeM"
      },
      "source": [
        "## Setting multi-level indexes"
      ]
    },
    {
      "cell_type": "markdown",
      "metadata": {
        "deletable": false,
        "editable": false,
        "id": "NVOj5EcCoBeM"
      },
      "source": [
        "**Question 6 (1pts):**\n",
        "- Set the index of nfl to the \"Current Team\" and \"College\" columns, and assign this to `nfl_ind`. After then, sort `nfl_ind` by the index values.\n",
        "- Specify two Current Team/College pairs (***tuples***) to keep: (\"Carolina Panthers\"/\"North Carolina-Charlotte\") and (\"Buffalo Bills\"/\"North Carolina State\"), assigning to `rows_to_keep`.\n",
        "- Subset nfl_ind for rows_to_keep using .loc[]. At the same time, use slicing to subset columns from \"Experience\" to \"Weight (lbs)\". Store the result in a variable named `my_players`."
      ]
    },
    {
      "cell_type": "code",
      "execution_count": 7,
      "metadata": {
        "tags": [
          "otter_answer_cell"
        ],
        "id": "CzUnNAg9oBeM",
        "colab": {
          "base_uri": "https://localhost:8080/"
        },
        "outputId": "f0df719d-a4f8-4c3f-b3a3-201a19b741a5"
      },
      "outputs": [
        {
          "output_type": "execute_result",
          "data": {
            "text/plain": [
              "Ellipsis"
            ]
          },
          "metadata": {},
          "execution_count": 7
        }
      ],
      "source": [
        "# Write your answers here.\n",
        "nfl_ind = nfl.set_index(['Current Team','College']).sort_index()\n",
        "\n",
        "rows_to_keep = [(\"Carolina Panthers\",\"North Carolina-Charlotte\"), (\"Buffalo Bills\",\"North Carolina State\")]\n",
        "\n",
        "my_players = nfl_ind.loc[rows_to_keep, \"Experience\":\"Weight (lbs)\"]\n",
        "...\n"
      ]
    },
    {
      "cell_type": "code",
      "execution_count": null,
      "metadata": {
        "tags": [
          "otter_answer_cell"
        ],
        "id": "Yw6srbCPoBeM"
      },
      "outputs": [],
      "source": [
        "#display(nfl_ind)\n",
        "#display(my_players)\n",
        "#my_players.columns"
      ]
    },
    {
      "cell_type": "markdown",
      "metadata": {
        "id": "dcbWxWT6oBeM"
      },
      "source": [
        "## Slicing time series\n"
      ]
    },
    {
      "cell_type": "markdown",
      "metadata": {
        "deletable": false,
        "editable": false,
        "id": "oTquQDvaoBeM"
      },
      "source": [
        "**Question 7 (1pt):**\n",
        "- Set the index of nfl to the \"Birthday\" column and sort it.  Store the result to `nfl_BD`.\n",
        "- Use .loc[] to subset nfl_BD for players born in 1996 and 1997. Store the result to `young_players`\n",
        "- Use .loc[] to subset nfl_BD for players born from Sep 1996 to Aug 1997. Store the result to `class2015`"
      ]
    },
    {
      "cell_type": "code",
      "execution_count": 8,
      "metadata": {
        "tags": [
          "otter_answer_cell"
        ],
        "id": "eNp5ds-VoBeM",
        "colab": {
          "base_uri": "https://localhost:8080/"
        },
        "outputId": "426a0ac2-ce2b-4ff7-bfed-7e311c8a32b8"
      },
      "outputs": [
        {
          "output_type": "execute_result",
          "data": {
            "text/plain": [
              "Ellipsis"
            ]
          },
          "metadata": {},
          "execution_count": 8
        }
      ],
      "source": [
        "# Write your answers here.\n",
        "\n",
        "nfl_BD = nfl.set_index('Birthday').sort_index()\n",
        "\n",
        "young_players = nfl_BD.loc['1996':'1997']\n",
        "\n",
        "class2015 = nfl_BD.loc['1996-09':'1997-08']\n",
        "..."
      ]
    },
    {
      "cell_type": "code",
      "execution_count": null,
      "metadata": {
        "tags": [
          "otter_answer_cell"
        ],
        "id": "BArCKuaMoBeM"
      },
      "outputs": [],
      "source": [
        "#display(nfl_BD)\n",
        "#display(young_players)\n",
        "#display(class2015)"
      ]
    },
    {
      "cell_type": "markdown",
      "metadata": {
        "id": "WAx8zXqvoBeM"
      },
      "source": [
        "## Multiple Grouped Summaries"
      ]
    },
    {
      "cell_type": "markdown",
      "metadata": {
        "deletable": false,
        "editable": false,
        "id": "-vXl3W0HoBeM"
      },
      "source": [
        "**Question 8 (1pt):**\n",
        "- Group the DataFrame by Current Team and Position, then calculate the **mean and standard deviation** of `Weight (lbs)` for each group. Store the result in a variable named `grouped_mean_weight`.\n",
        "- Group the DataFrame by Current Status and College, then find the median Age for each group. Store the result in a variable named `grouped_median_age`.  Make sure the type of the result is pandas.Series for this problem."
      ]
    },
    {
      "cell_type": "code",
      "execution_count": 11,
      "metadata": {
        "tags": [
          "otter_answer_cell"
        ],
        "id": "JLmr600BoBeM",
        "colab": {
          "base_uri": "https://localhost:8080/"
        },
        "outputId": "ee487525-2705-46e2-f3bd-b54f60cbc7f7"
      },
      "outputs": [
        {
          "output_type": "execute_result",
          "data": {
            "text/plain": [
              "Ellipsis"
            ]
          },
          "metadata": {},
          "execution_count": 11
        }
      ],
      "source": [
        "# Write your answers here.\n",
        "\n",
        "grouped_mean_weight = nfl.groupby(['Current Team','Position'])['Weight (lbs)'].agg(['mean','std'])\n",
        "\n",
        "grouped_median_age = nfl.groupby(['Current Status','College'])['Age'].median()\n",
        "..."
      ]
    },
    {
      "cell_type": "code",
      "execution_count": null,
      "metadata": {
        "tags": [
          "otter_answer_cell"
        ],
        "id": "GBBFZhTWoBeM"
      },
      "outputs": [],
      "source": [
        "#display(grouped_mean_weight)\n",
        "#display(grouped_median_age)\n",
        "#display(type(grouped_mean_weight), type(grouped_median_age))"
      ]
    },
    {
      "cell_type": "markdown",
      "metadata": {
        "id": "M7yg6E1XoBeM"
      },
      "source": [
        "## Pivoting on One Variable"
      ]
    },
    {
      "cell_type": "markdown",
      "metadata": {
        "deletable": false,
        "editable": false,
        "id": "MB4HZ1_moBeM"
      },
      "source": [
        "**Question 9 (0.5pt):**\n",
        "- Create a pivot table with Current Team as the index, Position as the columns, and the mean `Height (inches)` as the values. Store the result in a variable named team_position_pivot.\n"
      ]
    },
    {
      "cell_type": "code",
      "execution_count": 12,
      "metadata": {
        "tags": [
          "otter_answer_cell"
        ],
        "id": "oa_0zy-ooBeR",
        "colab": {
          "base_uri": "https://localhost:8080/"
        },
        "outputId": "104945d8-07fe-42f8-bcb6-4c1004ebe78a"
      },
      "outputs": [
        {
          "output_type": "execute_result",
          "data": {
            "text/plain": [
              "Ellipsis"
            ]
          },
          "metadata": {},
          "execution_count": 12
        }
      ],
      "source": [
        "# Write your answers here.\n",
        "\n",
        "team_position_pivot = nfl.pivot_table(values='Height (inches)', index='Current Team', columns='Position', aggfunc='mean')\n",
        "...\n"
      ]
    },
    {
      "cell_type": "code",
      "execution_count": null,
      "metadata": {
        "tags": [
          "otter_answer_cell"
        ],
        "id": "cHpIeowsoBeR"
      },
      "outputs": [],
      "source": [
        "#display(team_position_pivot)"
      ]
    },
    {
      "cell_type": "markdown",
      "metadata": {
        "id": "IwjgLp9qoBeR"
      },
      "source": [
        "## Fill in Missing Values and Sum Values with Pivot Tables"
      ]
    },
    {
      "cell_type": "markdown",
      "metadata": {
        "deletable": false,
        "editable": false,
        "id": "EzVRvmN5oBeR"
      },
      "source": [
        "**Question 10 (1 pt):**\n",
        "- Create a pivot table with College as the index, Current Status as the columns, and the count of Name as the values, filling in missing values with 0. Store the result in a variable named college_status_pivot.\n",
        "- Sum the values in college_status_pivot to get the total count of players for each Current Status, and store the result (pd.Series object) in a variable named status_totals."
      ]
    },
    {
      "cell_type": "code",
      "execution_count": 13,
      "metadata": {
        "tags": [
          "otter_answer_cell"
        ],
        "id": "qv67qY57oBeR",
        "colab": {
          "base_uri": "https://localhost:8080/"
        },
        "outputId": "e92f3d99-5cd9-43f7-a2fd-1f4e5d948a76"
      },
      "outputs": [
        {
          "output_type": "execute_result",
          "data": {
            "text/plain": [
              "Ellipsis"
            ]
          },
          "metadata": {},
          "execution_count": 13
        }
      ],
      "source": [
        "# Write your answers here.\n",
        "\n",
        "college_status_pivot = nfl.pivot_table(values='Name', index='College', columns='Current Status', aggfunc='count', fill_value=0)\n",
        "\n",
        "status_totals = college_status_pivot.sum()\n",
        "\n",
        "..."
      ]
    },
    {
      "cell_type": "code",
      "execution_count": null,
      "metadata": {
        "tags": [
          "otter_answer_cell"
        ],
        "id": "Mpl4kyUIoBeR"
      },
      "outputs": [],
      "source": [
        "#display(college_status_pivot)\n",
        "#display(status_totals)\n",
        "#display(status_totals.loc['Active'])"
      ]
    },
    {
      "cell_type": "markdown",
      "metadata": {
        "id": "iAdyeMIeoBeR"
      },
      "source": [
        "## Pivot nfl by Current Team and Birthyear"
      ]
    },
    {
      "cell_type": "markdown",
      "metadata": {
        "deletable": false,
        "editable": false,
        "id": "7ElF_TqSoBeS"
      },
      "source": [
        "**Question 11 (0.5pt):**\n",
        "- Make a copy of nfl named `nfl_new` using nfl.copy() and then add a Birthyear column to nfl_new, from the year component of the date column.\n",
        "- Make a pivot table of the count of the Name column, with Current Team as rows, and Birthyear as columns. Assign to `count_by_college_vs_birthyear`, and look at the result."
      ]
    },
    {
      "cell_type": "code",
      "execution_count": 14,
      "metadata": {
        "tags": [
          "otter_answer_cell"
        ],
        "id": "ZsABqziDoBeS",
        "colab": {
          "base_uri": "https://localhost:8080/"
        },
        "outputId": "b24faef7-981f-4d24-828d-e5e2ef87c449"
      },
      "outputs": [
        {
          "output_type": "execute_result",
          "data": {
            "text/plain": [
              "Ellipsis"
            ]
          },
          "metadata": {},
          "execution_count": 14
        }
      ],
      "source": [
        "# Write your answers here.\n",
        "nfl_new = nfl.copy()\n",
        "nfl_new['Birthyear'] = nfl_new['Birthday'].dt.year\n",
        "\n",
        "count_by_college_vs_birthyear = nfl_new.pivot_table(values='Name', index='Current Team', columns='Birthyear', aggfunc='count')\n",
        "..."
      ]
    },
    {
      "cell_type": "code",
      "execution_count": null,
      "metadata": {
        "tags": [
          "otter_answer_cell"
        ],
        "id": "W4D6V0TFoBeS"
      },
      "outputs": [],
      "source": [
        "#display(count_by_college_vs_birthyear)"
      ]
    }
  ],
  "metadata": {
    "kernelspec": {
      "display_name": "info3221",
      "language": "python",
      "name": "python3"
    },
    "language_info": {
      "codemirror_mode": {
        "name": "ipython",
        "version": 3
      },
      "file_extension": ".py",
      "mimetype": "text/x-python",
      "name": "python",
      "nbconvert_exporter": "python",
      "pygments_lexer": "ipython3",
      "version": "3.12.11"
    },
    "otter": {
      "OK_FORMAT": true,
      "tests": {
        "q1": {
          "name": "q1",
          "points": [
            0.4,
            0.1,
            0.4,
            0.1
          ],
          "suites": [
            {
              "cases": [
                {
                  "code": ">>> bool(mean_age == nfl.Age.mean())\nTrue",
                  "hidden": false,
                  "locked": false
                },
                {
                  "code": ">>> type(mean_age) == np.float64 or type(mean_age) == np.double\nTrue",
                  "hidden": false,
                  "locked": false
                },
                {
                  "code": ">>> bool(mean_weight == nfl['Weight (lbs)'].mean())\nTrue",
                  "hidden": false,
                  "locked": false
                },
                {
                  "code": ">>> type(mean_weight) == np.float64 or type(mean_weight) == np.double\nTrue",
                  "hidden": false,
                  "locked": false
                }
              ],
              "scored": true,
              "setup": "",
              "teardown": "",
              "type": "doctest"
            }
          ]
        },
        "q10": {
          "name": "q10",
          "points": [
            0.3,
            0.01,
            0.19
          ],
          "suites": [
            {
              "cases": [
                {
                  "code": ">>> college_status_pivot.equals(nfl.pivot_table(index='College', columns='Current Status', values='Name', aggfunc='count', fill_value=0))\nTrue",
                  "hidden": false,
                  "locked": false
                },
                {
                  "code": ">>> status_totals.equals(college_status_pivot.sum(axis=0))\nTrue",
                  "hidden": false,
                  "locked": false
                },
                {
                  "code": ">>> status_totals.equals(college_status_pivot.sum(axis=0)) or status_totals.equals(college_status_pivot.sum(axis=1))\nTrue",
                  "hidden": false,
                  "locked": false
                }
              ],
              "scored": true,
              "setup": "",
              "teardown": "",
              "type": "doctest"
            }
          ]
        },
        "q11": {
          "name": "q11",
          "points": [
            0.5
          ],
          "suites": [
            {
              "cases": [
                {
                  "code": ">>> count_by_college_vs_birthyear.equals(nfl_new.pivot_table(index='Current Team', columns='Birthyear', values='Name', aggfunc='count'))\nTrue",
                  "hidden": false,
                  "locked": false
                }
              ],
              "scored": true,
              "setup": "",
              "teardown": "",
              "type": "doctest"
            }
          ]
        },
        "q2": {
          "name": "q2",
          "points": [
            0.4,
            0.1,
            0.4,
            0.1,
            0.4,
            0.1
          ],
          "suites": [
            {
              "cases": [
                {
                  "code": ">>> earliest_birthday == nfl['Birthday'].min()\nTrue",
                  "hidden": false,
                  "locked": false
                },
                {
                  "code": ">>> type(earliest_birthday) == pd.Timestamp\nTrue",
                  "hidden": false,
                  "locked": false
                },
                {
                  "code": ">>> most_common_college == nfl['College'].value_counts().index[0]\nTrue",
                  "hidden": false,
                  "locked": false
                },
                {
                  "code": ">>> type(most_common_college) == str\nTrue",
                  "hidden": false,
                  "locked": false
                },
                {
                  "code": ">>> bool(np.all(summary_stats.values == nfl[['Height (inches)', 'Weight (lbs)']].agg(['mean', 'std', 'median']).values))\nTrue",
                  "hidden": false,
                  "locked": false
                },
                {
                  "code": ">>> type(summary_stats) == pd.DataFrame and bool(np.all(summary_stats.columns.values == np.array(['Height (inches)', 'Weight (lbs)'])))\nTrue",
                  "hidden": false,
                  "locked": false
                }
              ],
              "scored": true,
              "setup": "",
              "teardown": "",
              "type": "doctest"
            }
          ]
        },
        "q3": {
          "name": "q3",
          "points": [
            0.4,
            0.1,
            0.4,
            0.1
          ],
          "suites": [
            {
              "cases": [
                {
                  "code": ">>> bool(np.all(cumulative_weight == nfl['Weight (lbs)'].cumsum()))\nTrue",
                  "hidden": false,
                  "locked": false
                },
                {
                  "code": ">>> type(cumulative_weight) == pd.Series\nTrue",
                  "hidden": false,
                  "locked": false
                },
                {
                  "code": ">>> bool(cumulative_birth_place.iloc[-1] == 2513 and cumulative_birth_place.iloc[5] == 5 and (cumulative_birth_place.iloc[100] == 87))\nTrue",
                  "hidden": false,
                  "locked": false
                },
                {
                  "code": ">>> type(cumulative_birth_place) == pd.Series\nTrue",
                  "hidden": false,
                  "locked": false
                }
              ],
              "scored": true,
              "setup": "",
              "teardown": "",
              "type": "doctest"
            }
          ]
        },
        "q4": {
          "name": "q4",
          "points": [
            0.5,
            0.5
          ],
          "suites": [
            {
              "cases": [
                {
                  "code": ">>> college_hs[['College', 'High School']].equals(nfl[['College', 'High School']].drop_duplicates().reset_index(drop=True))\nTrue",
                  "hidden": false,
                  "locked": false
                },
                {
                  "code": ">>> bool(np.all(college_hs.index == pd.RangeIndex(start=0, stop=2576, step=1)))\nTrue",
                  "hidden": false,
                  "locked": false
                }
              ],
              "scored": true,
              "setup": "",
              "teardown": "",
              "type": "doctest"
            }
          ]
        },
        "q5": {
          "name": "q5",
          "points": [
            0.5,
            0.5
          ],
          "suites": [
            {
              "cases": [
                {
                  "code": ">>> bool(np.all(position_count.values == nfl['Position'].value_counts(sort=True).values))\nTrue",
                  "hidden": false,
                  "locked": false
                },
                {
                  "code": ">>> bool(np.all(status_proportion.values == nfl['Current Status'].value_counts(sort=True, normalize=True).values))\nTrue",
                  "hidden": false,
                  "locked": false
                }
              ],
              "scored": true,
              "setup": "",
              "teardown": "",
              "type": "doctest"
            }
          ]
        },
        "q6": {
          "name": "q6",
          "points": [
            0.4,
            0.1,
            0.2,
            0.3
          ],
          "suites": [
            {
              "cases": [
                {
                  "code": ">>> nfl_ind.equals(nfl.set_index(['Current Team', 'College']).sort_index())\nTrue",
                  "hidden": false,
                  "locked": false
                },
                {
                  "code": ">>> bool(np.all(my_players.columns.values == pd.Index(['Experience', 'Height (inches)', 'High School', 'High School Location', 'Name', 'Number', 'Player Id', 'Position', 'Weight (lbs)'], dtype='object').values))\nTrue",
                  "hidden": false,
                  "locked": false
                },
                {
                  "code": ">>> rows_to_keep == [('Carolina Panthers', 'North Carolina-Charlotte'), ('Buffalo Bills', 'North Carolina State')]\nTrue",
                  "hidden": false,
                  "locked": false
                },
                {
                  "code": ">>> my_players['Player Id'].iloc[0] == 'austinduke/2558937' and my_players['Player Id'].iloc[1] == 'stevenhauschka/2507374'\nTrue",
                  "hidden": false,
                  "locked": false
                }
              ],
              "scored": true,
              "setup": "",
              "teardown": "",
              "type": "doctest"
            }
          ]
        },
        "q7": {
          "name": "q7",
          "points": [
            0.5,
            0.3,
            0.2
          ],
          "suites": [
            {
              "cases": [
                {
                  "code": ">>> nfl_BD.equals(nfl.set_index('Birthday').sort_index())\nTrue",
                  "hidden": false,
                  "locked": false
                },
                {
                  "code": ">>> young_players.equals(nfl_BD.loc['1996':'1997'])\nTrue",
                  "hidden": false,
                  "locked": false
                },
                {
                  "code": ">>> class2015.equals(nfl_BD.loc['1996-09':'1997-08'])\nTrue",
                  "hidden": false,
                  "locked": false
                }
              ],
              "scored": true,
              "setup": "",
              "teardown": "",
              "type": "doctest"
            }
          ]
        },
        "q8": {
          "name": "q8",
          "points": [
            0.5,
            0.5
          ],
          "suites": [
            {
              "cases": [
                {
                  "code": ">>> grouped_mean_weight.equals(nfl.groupby(['Current Team', 'Position'])['Weight (lbs)'].agg(['mean', 'std']))\nTrue",
                  "hidden": false,
                  "locked": false
                },
                {
                  "code": ">>> grouped_median_age.equals(nfl.groupby(['Current Status', 'College'])['Age'].agg(['median'])['median'])\nTrue",
                  "hidden": false,
                  "locked": false
                }
              ],
              "scored": true,
              "setup": "",
              "teardown": "",
              "type": "doctest"
            }
          ]
        },
        "q9": {
          "name": "q9",
          "points": [
            0.5
          ],
          "suites": [
            {
              "cases": [
                {
                  "code": ">>> team_position_pivot.equals(nfl.pivot_table(index='Current Team', columns='Position', values='Height (inches)', aggfunc='mean'))\nTrue",
                  "hidden": false,
                  "locked": false
                }
              ],
              "scored": true,
              "setup": "",
              "teardown": "",
              "type": "doctest"
            }
          ]
        }
      }
    },
    "varInspector": {
      "cols": {
        "lenName": 16,
        "lenType": 16,
        "lenVar": 40
      },
      "kernels_config": {
        "python": {
          "delete_cmd_postfix": "",
          "delete_cmd_prefix": "del ",
          "library": "var_list.py",
          "varRefreshCmd": "print(var_dic_list())"
        },
        "r": {
          "delete_cmd_postfix": ") ",
          "delete_cmd_prefix": "rm(",
          "library": "var_list.r",
          "varRefreshCmd": "cat(var_dic_list()) "
        }
      },
      "types_to_exclude": [
        "module",
        "function",
        "builtin_function_or_method",
        "instance",
        "_Feature"
      ],
      "window_display": false
    },
    "colab": {
      "provenance": [],
      "include_colab_link": true
    }
  },
  "nbformat": 4,
  "nbformat_minor": 0
}