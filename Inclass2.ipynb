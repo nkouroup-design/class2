{
  "cells": [
    {
      "cell_type": "markdown",
      "id": "f0319f93",
      "metadata": {
        "id": "f0319f93"
      },
      "source": [
        "# In-class Assignment 2\n",
        "### Test your knowledge on\n",
        "- Using Documentations\n",
        "- NumPy\n",
        "- Matplotlib\n",
        "- Dictionaries and Pandas\n",
        "\n",
        "This notebook contains Python problems you need to complete. Write your codes directly here. Save your code (or save a copy) and upload it (\"inclass2.ipynb\") to [Gradescope](https://www.gradescope.com).\n",
        "\n",
        "Note that there are some hidden tests, so you may not get full points if these tests fail. Do not be misled by the message \"q# passed!\", which simply means grading code was successfully run to check your answer.\n",
        "\n",
        "### Common errors and how to fix/prevent them\n",
        "The following errors seem to be common among students. So, tips on how to fix or prevent them are given here.\n",
        "- typos:  Take advantage of auto completion using the \\[TAB\\] key.\n",
        "- incorrect use of symbols: Be careful match the opening and closing quotations, parentheses, brackets, braces. Using too many parentheses often create syntax errors.  Create some temporary variables may reduce such errors.\n",
        "- wrong indentation: the error message may provide where it occured.\n",
        "- incorrect data type: Use the type conversion functions, such as int(), float(), str().\n",
        "- other syntax errors: Read the error message and take a look at where it occured.  Most of the time, error messages help you fix the error.\n",
        "- logic errors: Even when no syntax error is found, your answer can be marked wrong if you have logic errors. The best way to fix would be inserting testing codes such as printing object, calling the function you create with sample inputs. Fixing logic errors is a challenge for even professional coders.\n",
        "- submitting a wrong file to Gradescope: Know how to locate the file you are editing in Jupyter Notebook/Lab (or in Google Colab).  Also, try not to create multiple files and check the time stamp if you do."
      ]
    },
    {
      "cell_type": "code",
      "execution_count": 20,
      "id": "2fc8eaac",
      "metadata": {
        "tags": [],
        "id": "2fc8eaac"
      },
      "outputs": [],
      "source": [
        "# Run the following to import the NumPy and Pandas packages\n",
        "import numpy as np\n",
        "import pandas as pd"
      ]
    },
    {
      "cell_type": "markdown",
      "id": "3afe7f8e",
      "metadata": {
        "deletable": false,
        "editable": false,
        "id": "3afe7f8e"
      },
      "source": [
        "**Question 1 (2 pts):**\n",
        "\n",
        "***Common sequence operations (https://docs.python.org/3/library/stdtypes.html#common-sequence-operations)***\n",
        "- Use the `index()` method to get the index of the character in `scream1` that is equal to \"L\". Store this index in a variable named `idxL`.\n",
        "- Call `count()` method of the string object to find out how many times \"O\" appears in `scream2`. Store this number in a variable named `how_many`."
      ]
    },
    {
      "cell_type": "code",
      "execution_count": 21,
      "id": "83d1d12e",
      "metadata": {
        "tags": [
          "otter_answer_cell"
        ],
        "id": "83d1d12e"
      },
      "outputs": [],
      "source": [
        "scream1 = \"GOAL!!!!!!!!\"\n",
        "scream2 = \"GOOOOOOOOOOOOOOOOOOO......OOOOOOL\"\n",
        "\n",
        "# Write your answers below.\n",
        "\n",
        "idxL = scream1.index(\"L\")\n",
        "how_many = scream2.count(\"O\")\n"
      ]
    },
    {
      "cell_type": "code",
      "execution_count": 22,
      "id": "e194aa3a",
      "metadata": {
        "deletable": false,
        "editable": false,
        "id": "e194aa3a"
      },
      "outputs": [],
      "source": [
        "# Check your answers here\n",
        "#print(idxL);print(how_many) # You can use semi-colons to write multiple statements"
      ]
    },
    {
      "cell_type": "markdown",
      "id": "2ea06578-60a1-49ee-91fe-097cf5cf57f6",
      "metadata": {
        "id": "2ea06578-60a1-49ee-91fe-097cf5cf57f6"
      },
      "source": [
        "## Run the following to get four NumPy array objects\n",
        "They are named `np_height_cm`, `np_heading` and `np_dribbling`, and `np_position`.  You do not have to understand the code below for this assignment. Just check what values are stored in each array."
      ]
    },
    {
      "cell_type": "code",
      "execution_count": 23,
      "id": "474172e5",
      "metadata": {
        "tags": [],
        "id": "474172e5",
        "colab": {
          "base_uri": "https://localhost:8080/"
        },
        "outputId": "cc90de49-0d7e-412c-87b2-9eb812371a60"
      },
      "outputs": [
        {
          "output_type": "stream",
          "name": "stdout",
          "text": [
            "(7917, 4) (7917,) (7917,) (7917,) (7917,)\n",
            "object int64 float64 float64 object\n",
            "[[184 62.0 59.0 'M']\n",
            " [185 74.0 53.0 'A']\n",
            " [180 71.0 46.0 'D']\n",
            " [181 66.0 72.0 'M']\n",
            " [187 82.0 43.0 'D']\n",
            " [170 60.0 61.0 'M']\n",
            " [179 56.0 64.0 'M']]\n"
          ]
        }
      ],
      "source": [
        "# Read the data from the url below into a Pandas DataFrame\n",
        "url = \"https://assets.datacamp.com/production/repositories/288/datasets/026a5211b906ac118a09b1a0dbf7df48faafb379/fifa.csv\"\n",
        "fifa_all = pd.read_csv(url, header=0, index_col=0, skipinitialspace=True)\n",
        "fifa = fifa_all.loc[:, 'name':'heading'] # drop some columns for simplicity\n",
        "fifa = fifa.dropna() # this will remove goal keepers (GK) because they have NaN for shooting and etc.\n",
        "np_height_cm = fifa['height'].values\n",
        "np_heading = fifa['heading'].values\n",
        "np_dribbling = fifa['dribbling'].values\n",
        "np_position = fifa['position'].values\n",
        "# Combine the five NumPy arrays into a single 2D array\n",
        "np_fifa = np.column_stack((np_height_cm, np_heading, np_dribbling, np_position))\n",
        "# Check the shape of the NumPy arrays\n",
        "print(np_fifa.shape, np_height_cm.shape, np_heading.shape, np_dribbling.shape, np_position.shape)\n",
        "# Check the data type of the NumPy arrays\n",
        "print(np_fifa.dtype, np_height_cm.dtype, np_heading.dtype, np_dribbling.dtype, np_position.dtype)\n",
        "# Check the first 7 rows of the NumPy arrays\n",
        "print(np_fifa[:7,:])"
      ]
    },
    {
      "cell_type": "markdown",
      "id": "49e098e6",
      "metadata": {
        "deletable": false,
        "editable": false,
        "id": "49e098e6"
      },
      "source": [
        "**Question 2 (0.5pt):**\n",
        "- Divide `np_height_cm` by `2.54` to convert all height measurements from centimeters to inches. Store the new value in a new array, `np_height_in`."
      ]
    },
    {
      "cell_type": "code",
      "execution_count": 24,
      "id": "cc40a687",
      "metadata": {
        "tags": [
          "otter_answer_cell"
        ],
        "id": "cc40a687"
      },
      "outputs": [],
      "source": [
        "# Write your code below.\n",
        "\n",
        "np_height_in = np_height_cm / 2.54\n"
      ]
    },
    {
      "cell_type": "code",
      "execution_count": 25,
      "id": "510414cf",
      "metadata": {
        "deletable": false,
        "editable": false,
        "tags": [],
        "id": "510414cf"
      },
      "outputs": [],
      "source": [
        "# Check your answers here\n",
        "#print(type(np_height_in), np_height_in)\n",
        "#print(type(np_height_cm), np_height_cm)"
      ]
    },
    {
      "cell_type": "markdown",
      "id": "130fcc63",
      "metadata": {
        "deletable": false,
        "editable": false,
        "id": "130fcc63"
      },
      "source": [
        "**Question 3 (1.5 pts):**\n",
        "\n",
        "- Get the median of `np_height_cm` and maximum of `np_height_cm` and store them as `med_height` and `max_height`, respectively.\n",
        "- Create a boolean numpy array; the element of the array should be `True` if the corresponding soccer player's height is greather than `(med_height+max_height)/2`. You can use the `>` operator for this. Name the array `is_tall`.\n",
        "- Get a numpy array of all soccer players whose height is greather than the average of `med_height` and `max_height`. Store the resulting array as `tall_heights`. Hint: Use `is_tall` inside square brackets to do a selection on the `np_height_cm` array."
      ]
    },
    {
      "cell_type": "code",
      "execution_count": 26,
      "id": "9c63a5de",
      "metadata": {
        "tags": [
          "otter_answer_cell"
        ],
        "id": "9c63a5de"
      },
      "outputs": [],
      "source": [
        "# Write your code below.\n",
        "\n",
        "\n",
        "med_height = np.median(np_height_cm)\n",
        "max_height = np.max(np_height_cm)\n",
        "is_tall = np_height_cm > (med_height + max_height) / 2\n",
        "tall_heights = np_height_cm[is_tall]\n"
      ]
    },
    {
      "cell_type": "code",
      "execution_count": 27,
      "id": "268a7583",
      "metadata": {
        "deletable": false,
        "editable": false,
        "id": "268a7583"
      },
      "outputs": [],
      "source": [
        "# Check the values in the variables.\n",
        "#print(med_height, max_height)\n",
        "#print(is_tall)\n",
        "#print(tall_heights)"
      ]
    },
    {
      "cell_type": "markdown",
      "id": "3fc66b99",
      "metadata": {
        "deletable": false,
        "editable": false,
        "id": "3fc66b99"
      },
      "source": [
        "**Question 4 (1.5 pts):**\n",
        "\n",
        "- Extract all the heights (in cm) of the midfielders. You can use a little trick here: use `np_position == 'M'` as an index for `np_height_cm`. Assign the result to `mid_height`.\n",
        "- Extract all the heights (in cm) of the defenders. This time use `np_position == 'D'` as an index for `np_height_cm`. Assign the result to `def_height`.\n",
        "- Obtain the mean and the standard deviation of midfielder heights and store them in variables named `mean_mid_height` and `sd_mid_height`.\n",
        "- Obtain the mean and the standard deviation of defender heights and store them in variables named `mean_def_height` and `sd_def_height`."
      ]
    },
    {
      "cell_type": "code",
      "execution_count": 28,
      "id": "a896abe6",
      "metadata": {
        "tags": [
          "otter_answer_cell"
        ],
        "id": "a896abe6"
      },
      "outputs": [],
      "source": [
        "# Write your answers below\n",
        "\n",
        "mid_height = np_height_cm[np_position == 'M']\n",
        "def_height = np_height_cm[np_position == 'D']\n",
        "mean_mid_height = np.mean(mid_height)\n",
        "sd_mid_height = np.std(mid_height, ddof=1)\n",
        "mean_def_height = np.mean(def_height)\n",
        "sd_def_height = np.std(def_height, ddof=1)\n"
      ]
    },
    {
      "cell_type": "code",
      "execution_count": 29,
      "id": "5401c109",
      "metadata": {
        "deletable": false,
        "editable": false,
        "id": "5401c109"
      },
      "outputs": [],
      "source": [
        "# Check your answers here\n",
        "#print(mean_mid_height, mean_def_height, sd_mid_height, sd_def_height)"
      ]
    },
    {
      "cell_type": "markdown",
      "id": "0bdc9c97",
      "metadata": {
        "deletable": false,
        "editable": false,
        "id": "0bdc9c97"
      },
      "source": [
        "**Question 5 (0.5 pt):**\n",
        "\n",
        "Do tall players tend to dribble better?\n",
        "- Use `np.corrcoef()` to store the correlation between `np_height_cm` and `np_dribbling` in a variable named `corr`.\n",
        "\n",
        "Print the correlation (run the next cell). Does the relationship make sense?"
      ]
    },
    {
      "cell_type": "code",
      "execution_count": 30,
      "id": "9acb0382",
      "metadata": {
        "tags": [
          "otter_answer_cell"
        ],
        "id": "9acb0382"
      },
      "outputs": [],
      "source": [
        "# Write your code answers below.\n",
        "\n",
        "\n",
        "corr_matrix = np.corrcoef(np_height_cm, np_dribbling)\n",
        "corr = corr_matrix[0, 1]\n"
      ]
    },
    {
      "cell_type": "code",
      "execution_count": 31,
      "id": "08ffbd5c",
      "metadata": {
        "deletable": false,
        "editable": false,
        "id": "08ffbd5c"
      },
      "outputs": [],
      "source": [
        "# Check the sign of the correlation coefficient.  What does it mean?\n",
        "#print(corr)"
      ]
    },
    {
      "cell_type": "markdown",
      "id": "de1940c3",
      "metadata": {
        "deletable": false,
        "editable": false,
        "id": "de1940c3"
      },
      "source": [
        "<!-- BEGIN QUESTION -->\n",
        "\n",
        "**Question 6 (1 pt):**\n",
        "\n",
        "A correlation will become clear if plot the data.  \n",
        "- Build a scatter plot, with `np_height_cm` on the x-axis and `np_dribbling` on the y-axis.\n",
        "- Set the x-label and y-label as \"Player Height (cm)\" and \"Player Heading (rating)\", respectively.\n",
        "\n",
        "Finish off your script with plt.show() to display the plot."
      ]
    },
    {
      "cell_type": "code",
      "execution_count": 32,
      "id": "34e494ec",
      "metadata": {
        "tags": [
          "otter_answer_cell"
        ],
        "id": "34e494ec",
        "colab": {
          "base_uri": "https://localhost:8080/",
          "height": 451
        },
        "outputId": "2936f772-604c-4aee-eeb8-4aa17bad19db"
      },
      "outputs": [
        {
          "output_type": "display_data",
          "data": {
            "text/plain": [
              "<Figure size 640x480 with 1 Axes>"
            ],
            "image/png": "[encoded data removed]"
          },
          "metadata": {}
        }
      ],
      "source": [
        "# You need to import the matplotlib.pyplot package as plt\n",
        "import matplotlib.pyplot as plt\n",
        "# Write your code answers below.\n",
        "\n",
        "plt.scatter(np_height_cm, np_dribbling)\n",
        "plt.xlabel(\"Player Height (cm)\")\n",
        "plt.ylabel(\"Player Heading (rating)\")\n",
        "plt.show()\n",
        "\n"
      ]
    },
    {
      "cell_type": "markdown",
      "id": "9f5b1538",
      "metadata": {
        "deletable": false,
        "editable": false,
        "id": "9f5b1538"
      },
      "source": [
        "<!-- END QUESTION -->\n",
        "\n",
        "<!-- BEGIN QUESTION -->\n",
        "\n",
        "**Question 7 (1 pt):**\n",
        "\n",
        "Plot the distributions of midfielder's height and defender's height in one plot.\n",
        "Which plot type do you think we will need? Histogram, right?\n",
        "- Use `plt.hist()` to create two histogram of the values in `mid_height` and `def_height`. Set the labels to \"Midfielder\" and \"Defender\" and set the *number of bins* to **15** for both. Optinally set [alpha](https://matplotlib.org/stable/api/_as_gen/matplotlib.artist.Artist.set_alpha.html) to 0.5 (i.e., use additional argument, `alpha=0.5`)."
      ]
    },
    {
      "cell_type": "code",
      "execution_count": 33,
      "id": "023f379e",
      "metadata": {
        "tags": [
          "otter_answer_cell"
        ],
        "id": "023f379e",
        "colab": {
          "base_uri": "https://localhost:8080/",
          "height": 472
        },
        "outputId": "fc355327-1221-4893-a3e2-db498e87e322"
      },
      "outputs": [
        {
          "output_type": "display_data",
          "data": {
            "text/plain": [
              "<Figure size 640x480 with 1 Axes>"
            ],
            "image/png": "[encoded data removed]"
          },
          "metadata": {}
        }
      ],
      "source": [
        "# Create mid_height and def_height distributions in one plot\n",
        "# Write your code answers below.\n",
        "\n",
        "\n",
        "plt.hist(mid_height, bins=15, alpha=0.5, label=\"Midfielder\")\n",
        "plt.hist(def_height, bins=15, alpha=0.5, label=\"Defender\")\n",
        "plt.xlabel(\"Height (cm)\")\n",
        "plt.ylabel(\"Frequency\")\n",
        "plt.title(\"Height Distribution of Midfielders vs Defenders\")\n",
        "plt.legend()\n",
        "plt.show()\n",
        "\n"
      ]
    },
    {
      "cell_type": "markdown",
      "id": "1e142c98",
      "metadata": {
        "deletable": false,
        "editable": false,
        "id": "1e142c98"
      },
      "source": [
        "<!-- END QUESTION -->\n",
        "\n",
        "## Run the following to crate a dictionary named `top_dict`.\n",
        "You do not have to understand the code below for this assignment. Just check what values are stored."
      ]
    },
    {
      "cell_type": "code",
      "execution_count": 34,
      "id": "f883f249",
      "metadata": {
        "id": "f883f249",
        "colab": {
          "base_uri": "https://localhost:8080/"
        },
        "outputId": "36b39791-d09d-4de7-be6d-0b9f39c2bd28"
      },
      "outputs": [
        {
          "output_type": "stream",
          "name": "stdout",
          "text": [
            "{'Lionel Messi': {'rating': 94, 'position': 'A', 'height': 169, 'foot': 'Left'}, 'Cristiano Ronaldo': {'rating': 92, 'position': 'A', 'height': 186, 'foot': 'Right'}, 'Xavi': {'rating': 92, 'position': 'M', 'height': 170, 'foot': 'Right'}, 'Iniesta': {'rating': 91, 'position': 'M', 'height': 170, 'foot': 'Right'}, 'Arjen Robben': {'rating': 90, 'position': 'M', 'height': 181, 'foot': 'Left'}, 'Wayne Rooney': {'rating': 90, 'position': 'A', 'height': 177, 'foot': 'Right'}, 'Nemanja Vidić': {'rating': 89, 'position': 'D', 'height': 189, 'foot': 'Right'}, 'Zlatan Ibrahimović': {'rating': 88, 'position': 'A', 'height': 195, 'foot': 'Right'}, 'Cesc Fàbregas': {'rating': 88, 'position': 'M', 'height': 175, 'foot': 'Right'}, 'Franck Ribéry': {'rating': 88, 'position': 'M', 'height': 170, 'foot': 'Right'}}\n",
            "{'rating': 94, 'position': 'A', 'height': 169, 'foot': 'Left'}\n"
          ]
        }
      ],
      "source": [
        "top_rated = fifa.sort_values(by='rating', ascending=False)[:10][['name', 'rating','position','height','foot']].set_index('name')\n",
        "# A dictionary of dictionaries can be created from the DataFrame 'top_rated'!!\n",
        "top_dict = top_rated.to_dict(orient='index')\n",
        "print(top_dict)\n",
        "print(top_dict['Lionel Messi']) # Example of accessing a dictionary item"
      ]
    },
    {
      "cell_type": "markdown",
      "id": "72a5dae1",
      "metadata": {
        "deletable": false,
        "editable": false,
        "id": "72a5dae1"
      },
      "source": [
        "**Question 8 (0.5pt)** Dictionaries can contain key:value pairs where the values are again dictionaries. The `top_dict` is a [dictionary of dictionaries](https://campus.datacamp.com/courses/intermediate-python/dictionaries-pandas?ex=8), where the keys are the player names and the values are dictionaries that contain information about player characteristics (rating, position, height, and foot).\n",
        "\n",
        "- Use chained square brackets to select the rating of \"Christiano Ronaldo\" from `top_dict`, and then store the rating in a variable named `cr_rating`.\n",
        "- Create a dictionary named `new_player`, with keys `'rating'`, `'position'`, `'height'`, and `'foot'`. Set them to `89`, `'A'`, `180`, and `'left'`.\n",
        "- Add a new key-value pair to `top_dict`; the key is `'Lamine Yamal'` and the value is `new_player`, the dictionary you just built."
      ]
    },
    {
      "cell_type": "code",
      "execution_count": 35,
      "id": "fcd9ad09",
      "metadata": {
        "tags": [
          "otter_answer_cell"
        ],
        "id": "fcd9ad09"
      },
      "outputs": [],
      "source": [
        "# Write your answers here.\n",
        "\n",
        "cr_rating = top_dict[\"Cristiano Ronaldo\"][\"rating\"]\n",
        "new_player = {\n",
        "    \"rating\": 89,\n",
        "    \"position\": \"A\",\n",
        "    \"height\": 180,\n",
        "    \"foot\": \"left\"}\n",
        "top_dict[\"Lamine Yamal\"] = new_player\n",
        "\n",
        "\n"
      ]
    },
    {
      "cell_type": "code",
      "execution_count": 36,
      "id": "7991dffc",
      "metadata": {
        "deletable": false,
        "editable": false,
        "id": "7991dffc"
      },
      "outputs": [],
      "source": [
        "# Check your answers here\n",
        "#print(cr_rating)\n",
        "#print(new_player)\n",
        "#print(top_dict['Lamine Yamal'])"
      ]
    },
    {
      "cell_type": "markdown",
      "id": "a09259c7",
      "metadata": {
        "id": "a09259c7"
      },
      "source": [
        "## Pandas Basics\n",
        "### Series vs DataFrame in Pandas"
      ]
    },
    {
      "cell_type": "code",
      "execution_count": 37,
      "id": "f60f11fc",
      "metadata": {
        "id": "f60f11fc",
        "colab": {
          "base_uri": "https://localhost:8080/",
          "height": 365
        },
        "outputId": "f8dafe9d-9277-4ccd-ddb9-e320f45b9931"
      },
      "outputs": [
        {
          "output_type": "error",
          "ename": "FileNotFoundError",
          "evalue": "[Errno 2] No such file or directory: 'HouseData.csv'",
          "traceback": [
            "\u001b[0;31m---------------------------------------------------------------------------\u001b[0m",
            "\u001b[0;31mFileNotFoundError\u001b[0m                         Traceback (most recent call last)",
            "\u001b[0;32m/tmp/ipython-input-101660466.py\u001b[0m in \u001b[0;36m<cell line: 0>\u001b[0;34m()\u001b[0m\n\u001b[1;32m      1\u001b[0m \u001b[0;31m# Run the following cell to load the data.\u001b[0m\u001b[0;34m\u001b[0m\u001b[0;34m\u001b[0m\u001b[0m\n\u001b[1;32m      2\u001b[0m \u001b[0;32mimport\u001b[0m \u001b[0mpandas\u001b[0m \u001b[0;32mas\u001b[0m \u001b[0mpd\u001b[0m\u001b[0;34m\u001b[0m\u001b[0;34m\u001b[0m\u001b[0m\n\u001b[0;32m----> 3\u001b[0;31m \u001b[0mhouse\u001b[0m\u001b[0;34m=\u001b[0m\u001b[0mpd\u001b[0m\u001b[0;34m.\u001b[0m\u001b[0mread_csv\u001b[0m\u001b[0;34m(\u001b[0m\u001b[0;34m\"HouseData.csv\"\u001b[0m\u001b[0;34m,\u001b[0m \u001b[0mheader\u001b[0m\u001b[0;34m=\u001b[0m\u001b[0;36m0\u001b[0m\u001b[0;34m,\u001b[0m\u001b[0mindex_col\u001b[0m\u001b[0;34m=\u001b[0m\u001b[0;36m0\u001b[0m\u001b[0;34m)\u001b[0m\u001b[0;34m\u001b[0m\u001b[0;34m\u001b[0m\u001b[0m\n\u001b[0m\u001b[1;32m      4\u001b[0m \u001b[0mnrow_house\u001b[0m\u001b[0;34m,\u001b[0m \u001b[0mncol_house\u001b[0m \u001b[0;34m=\u001b[0m \u001b[0mhouse\u001b[0m\u001b[0;34m.\u001b[0m\u001b[0mshape\u001b[0m\u001b[0;34m[\u001b[0m\u001b[0;36m0\u001b[0m\u001b[0;34m]\u001b[0m\u001b[0;34m,\u001b[0m \u001b[0mhouse\u001b[0m\u001b[0;34m.\u001b[0m\u001b[0mshape\u001b[0m\u001b[0;34m[\u001b[0m\u001b[0;36m1\u001b[0m\u001b[0;34m]\u001b[0m\u001b[0;34m\u001b[0m\u001b[0;34m\u001b[0m\u001b[0m\n",
            "\u001b[0;32m/usr/local/lib/python3.12/dist-packages/pandas/io/parsers/readers.py\u001b[0m in \u001b[0;36mread_csv\u001b[0;34m(filepath_or_buffer, sep, delimiter, header, names, index_col, usecols, dtype, engine, converters, true_values, false_values, skipinitialspace, skiprows, skipfooter, nrows, na_values, keep_default_na, na_filter, verbose, skip_blank_lines, parse_dates, infer_datetime_format, keep_date_col, date_parser, date_format, dayfirst, cache_dates, iterator, chunksize, compression, thousands, decimal, lineterminator, quotechar, quoting, doublequote, escapechar, comment, encoding, encoding_errors, dialect, on_bad_lines, delim_whitespace, low_memory, memory_map, float_precision, storage_options, dtype_backend)\u001b[0m\n\u001b[1;32m   1024\u001b[0m     \u001b[0mkwds\u001b[0m\u001b[0;34m.\u001b[0m\u001b[0mupdate\u001b[0m\u001b[0;34m(\u001b[0m\u001b[0mkwds_defaults\u001b[0m\u001b[0;34m)\u001b[0m\u001b[0;34m\u001b[0m\u001b[0;34m\u001b[0m\u001b[0m\n\u001b[1;32m   1025\u001b[0m \u001b[0;34m\u001b[0m\u001b[0m\n\u001b[0;32m-> 1026\u001b[0;31m     \u001b[0;32mreturn\u001b[0m \u001b[0m_read\u001b[0m\u001b[0;34m(\u001b[0m\u001b[0mfilepath_or_buffer\u001b[0m\u001b[0;34m,\u001b[0m \u001b[0mkwds\u001b[0m\u001b[0;34m)\u001b[0m\u001b[0;34m\u001b[0m\u001b[0;34m\u001b[0m\u001b[0m\n\u001b[0m\u001b[1;32m   1027\u001b[0m \u001b[0;34m\u001b[0m\u001b[0m\n\u001b[1;32m   1028\u001b[0m \u001b[0;34m\u001b[0m\u001b[0m\n",
            "\u001b[0;32m/usr/local/lib/python3.12/dist-packages/pandas/io/parsers/readers.py\u001b[0m in \u001b[0;36m_read\u001b[0;34m(filepath_or_buffer, kwds)\u001b[0m\n\u001b[1;32m    618\u001b[0m \u001b[0;34m\u001b[0m\u001b[0m\n\u001b[1;32m    619\u001b[0m     \u001b[0;31m# Create the parser.\u001b[0m\u001b[0;34m\u001b[0m\u001b[0;34m\u001b[0m\u001b[0m\n\u001b[0;32m--> 620\u001b[0;31m     \u001b[0mparser\u001b[0m \u001b[0;34m=\u001b[0m \u001b[0mTextFileReader\u001b[0m\u001b[0;34m(\u001b[0m\u001b[0mfilepath_or_buffer\u001b[0m\u001b[0;34m,\u001b[0m \u001b[0;34m**\u001b[0m\u001b[0mkwds\u001b[0m\u001b[0;34m)\u001b[0m\u001b[0;34m\u001b[0m\u001b[0;34m\u001b[0m\u001b[0m\n\u001b[0m\u001b[1;32m    621\u001b[0m \u001b[0;34m\u001b[0m\u001b[0m\n\u001b[1;32m    622\u001b[0m     \u001b[0;32mif\u001b[0m \u001b[0mchunksize\u001b[0m \u001b[0;32mor\u001b[0m \u001b[0miterator\u001b[0m\u001b[0;34m:\u001b[0m\u001b[0;34m\u001b[0m\u001b[0;34m\u001b[0m\u001b[0m\n",
            "\u001b[0;32m/usr/local/lib/python3.12/dist-packages/pandas/io/parsers/readers.py\u001b[0m in \u001b[0;36m__init__\u001b[0;34m(self, f, engine, **kwds)\u001b[0m\n\u001b[1;32m   1618\u001b[0m \u001b[0;34m\u001b[0m\u001b[0m\n\u001b[1;32m   1619\u001b[0m         \u001b[0mself\u001b[0m\u001b[0;34m.\u001b[0m\u001b[0mhandles\u001b[0m\u001b[0;34m:\u001b[0m \u001b[0mIOHandles\u001b[0m \u001b[0;34m|\u001b[0m \u001b[0;32mNone\u001b[0m \u001b[0;34m=\u001b[0m \u001b[0;32mNone\u001b[0m\u001b[0;34m\u001b[0m\u001b[0;34m\u001b[0m\u001b[0m\n\u001b[0;32m-> 1620\u001b[0;31m         \u001b[0mself\u001b[0m\u001b[0;34m.\u001b[0m\u001b[0m_engine\u001b[0m \u001b[0;34m=\u001b[0m \u001b[0mself\u001b[0m\u001b[0;34m.\u001b[0m\u001b[0m_make_engine\u001b[0m\u001b[0;34m(\u001b[0m\u001b[0mf\u001b[0m\u001b[0;34m,\u001b[0m \u001b[0mself\u001b[0m\u001b[0;34m.\u001b[0m\u001b[0mengine\u001b[0m\u001b[0;34m)\u001b[0m\u001b[0;34m\u001b[0m\u001b[0;34m\u001b[0m\u001b[0m\n\u001b[0m\u001b[1;32m   1621\u001b[0m \u001b[0;34m\u001b[0m\u001b[0m\n\u001b[1;32m   1622\u001b[0m     \u001b[0;32mdef\u001b[0m \u001b[0mclose\u001b[0m\u001b[0;34m(\u001b[0m\u001b[0mself\u001b[0m\u001b[0;34m)\u001b[0m \u001b[0;34m->\u001b[0m \u001b[0;32mNone\u001b[0m\u001b[0;34m:\u001b[0m\u001b[0;34m\u001b[0m\u001b[0;34m\u001b[0m\u001b[0m\n",
            "\u001b[0;32m/usr/local/lib/python3.12/dist-packages/pandas/io/parsers/readers.py\u001b[0m in \u001b[0;36m_make_engine\u001b[0;34m(self, f, engine)\u001b[0m\n\u001b[1;32m   1878\u001b[0m                 \u001b[0;32mif\u001b[0m \u001b[0;34m\"b\"\u001b[0m \u001b[0;32mnot\u001b[0m \u001b[0;32min\u001b[0m \u001b[0mmode\u001b[0m\u001b[0;34m:\u001b[0m\u001b[0;34m\u001b[0m\u001b[0;34m\u001b[0m\u001b[0m\n\u001b[1;32m   1879\u001b[0m                     \u001b[0mmode\u001b[0m \u001b[0;34m+=\u001b[0m \u001b[0;34m\"b\"\u001b[0m\u001b[0;34m\u001b[0m\u001b[0;34m\u001b[0m\u001b[0m\n\u001b[0;32m-> 1880\u001b[0;31m             self.handles = get_handle(\n\u001b[0m\u001b[1;32m   1881\u001b[0m                 \u001b[0mf\u001b[0m\u001b[0;34m,\u001b[0m\u001b[0;34m\u001b[0m\u001b[0;34m\u001b[0m\u001b[0m\n\u001b[1;32m   1882\u001b[0m                 \u001b[0mmode\u001b[0m\u001b[0;34m,\u001b[0m\u001b[0;34m\u001b[0m\u001b[0;34m\u001b[0m\u001b[0m\n",
            "\u001b[0;32m/usr/local/lib/python3.12/dist-packages/pandas/io/common.py\u001b[0m in \u001b[0;36mget_handle\u001b[0;34m(path_or_buf, mode, encoding, compression, memory_map, is_text, errors, storage_options)\u001b[0m\n\u001b[1;32m    871\u001b[0m         \u001b[0;32mif\u001b[0m \u001b[0mioargs\u001b[0m\u001b[0;34m.\u001b[0m\u001b[0mencoding\u001b[0m \u001b[0;32mand\u001b[0m \u001b[0;34m\"b\"\u001b[0m \u001b[0;32mnot\u001b[0m \u001b[0;32min\u001b[0m \u001b[0mioargs\u001b[0m\u001b[0;34m.\u001b[0m\u001b[0mmode\u001b[0m\u001b[0;34m:\u001b[0m\u001b[0;34m\u001b[0m\u001b[0;34m\u001b[0m\u001b[0m\n\u001b[1;32m    872\u001b[0m             \u001b[0;31m# Encoding\u001b[0m\u001b[0;34m\u001b[0m\u001b[0;34m\u001b[0m\u001b[0m\n\u001b[0;32m--> 873\u001b[0;31m             handle = open(\n\u001b[0m\u001b[1;32m    874\u001b[0m                 \u001b[0mhandle\u001b[0m\u001b[0;34m,\u001b[0m\u001b[0;34m\u001b[0m\u001b[0;34m\u001b[0m\u001b[0m\n\u001b[1;32m    875\u001b[0m                 \u001b[0mioargs\u001b[0m\u001b[0;34m.\u001b[0m\u001b[0mmode\u001b[0m\u001b[0;34m,\u001b[0m\u001b[0;34m\u001b[0m\u001b[0;34m\u001b[0m\u001b[0m\n",
            "\u001b[0;31mFileNotFoundError\u001b[0m: [Errno 2] No such file or directory: 'HouseData.csv'"
          ]
        }
      ],
      "source": [
        "# Run the following cell to load the data.\n",
        "import pandas as pd\n",
        "house=pd.read_csv(\"HouseData.csv\", header=0,index_col=0)\n",
        "nrow_house, ncol_house = house.shape[0], house.shape[1]"
      ]
    },
    {
      "cell_type": "markdown",
      "id": "ff2457d2",
      "metadata": {
        "deletable": false,
        "editable": false,
        "id": "ff2457d2"
      },
      "source": [
        "**Question 9 (1.5pt):** Square brackets provide a simple way to select columns from a DataFrame.\n",
        "\n",
        "- Use single square brackets to get the `Dist_Hospital` column of house as a Pandas Series. Store the result in a variable named `dist_hosp_series`.\n",
        "- Use double square brackets to get the `Dist_Hospital` column of house as a Pandas DataFrame. Store the result in a variable named `dist_hosp_df`.\n",
        "- Use double square brackets to get a DataFrame with both the Builtup and Parking columns of house, in this order. Store the result in a variable named `builtup_parking_df`.\n",
        "\n",
        "Square brackets can also be used to select rows, or observations, from a DataFrame.\n",
        "\n",
        "- Select the first 4 observations from house and store them in a variable named `first_4_obs`.\n",
        "- Select the fifth, sixth, and seventh observation, corresponding to row indexes 4, 5, and 6, and store them in a variable named `next_3_obs`.\n"
      ]
    },
    {
      "cell_type": "code",
      "execution_count": null,
      "id": "f783a8d0",
      "metadata": {
        "tags": [
          "otter_answer_cell"
        ],
        "id": "f783a8d0"
      },
      "outputs": [],
      "source": [
        "# Write your answers here.\n",
        "\n",
        "\n",
        "first_4_obs = house.iloc[:4]\n",
        "next_3_obs = house.iloc[4:7]\n",
        "\n"
      ]
    },
    {
      "cell_type": "code",
      "execution_count": null,
      "id": "b02adaa3",
      "metadata": {
        "deletable": false,
        "editable": false,
        "id": "b02adaa3"
      },
      "outputs": [],
      "source": [
        "# Check your answers here\n",
        "#print(dist_hosp_series)\n",
        "#print(dist_hosp_df)\n",
        "#print(builtup_parking_df)\n",
        "#print(first_4_obs)\n",
        "#print(next_3_obs)"
      ]
    },
    {
      "cell_type": "markdown",
      "id": "3920929f",
      "metadata": {
        "id": "3920929f"
      },
      "source": [
        "### loc and iloc"
      ]
    },
    {
      "cell_type": "markdown",
      "id": "39b48b8d",
      "metadata": {
        "deletable": false,
        "editable": false,
        "id": "39b48b8d"
      },
      "source": [
        "**Question 10 (1pt):** `loc` and `iloc` provide powerful ways to select data from a DataFrame.\n",
        "\n",
        "- Use loc or iloc to select the observation corresponding to the fifth house (Observation = 5) as a Series. Store the result in a variable named `fifth_house`.\n",
        "- Use loc or iloc to select the observations for houses with index (\"Observation\") 3 and 7 as a DataFrame. Store the result in a variable named `houses_3_7`.\n",
        "- Store the price value of the house with the observation index 10 in a variable named `price_10`.\n",
        "- Store a sub-DataFrame, containing the observations for houses with indexes 4 and 6 and the columns City_Category and Rainfall. Save the result in a variable named `city_rain_df`."
      ]
    },
    {
      "cell_type": "code",
      "execution_count": null,
      "id": "e4ef0c92",
      "metadata": {
        "tags": [
          "otter_answer_cell"
        ],
        "id": "e4ef0c92"
      },
      "outputs": [],
      "source": [
        "# Write your answers here.\n",
        "\n",
        "\n",
        "fifth_house = house.iloc[4]\n",
        "houses_3_7 = house.iloc[[3, 7]]\n",
        "price_10 = house.iloc[10]['Price']\n",
        "city_rain_df = house.iloc[[4, 6]][['City_Category', 'Rainfall']]\n",
        "\n"
      ]
    },
    {
      "cell_type": "code",
      "execution_count": null,
      "id": "2998bdd9",
      "metadata": {
        "deletable": false,
        "editable": false,
        "id": "2998bdd9"
      },
      "outputs": [],
      "source": [
        "# Check your answers here\n",
        "#print(fifth_house)\n",
        "#print(houses_3_7)\n",
        "#print(price_10)\n",
        "#print(city_rain_df)"
      ]
    }
  ],
  "metadata": {
    "kernelspec": {
      "display_name": "info3221",
      "language": "python",
      "name": "python3"
    },
    "language_info": {
      "codemirror_mode": {
        "name": "ipython",
        "version": 3
      },
      "file_extension": ".py",
      "mimetype": "text/x-python",
      "name": "python",
      "nbconvert_exporter": "python",
      "pygments_lexer": "ipython3",
      "version": "3.12.11"
    },
    "otter": {
      "OK_FORMAT": true,
      "tests": {
        "q1": {
          "name": "q1",
          "points": [
            0.5,
            0.5
          ],
          "suites": [
            {
              "cases": [
                {
                  "code": ">>> idxL == scream1.index('L')\nTrue",
                  "hidden": false,
                  "locked": false
                },
                {
                  "code": ">>> how_many == scream2.count('O')\nTrue",
                  "hidden": false,
                  "locked": false
                }
              ],
              "scored": true,
              "setup": "",
              "teardown": "",
              "type": "doctest"
            }
          ]
        },
        "q10": {
          "name": "q10",
          "points": [
            0.3,
            0.2,
            0.3,
            0.2
          ],
          "suites": [
            {
              "cases": [
                {
                  "code": ">>> bool(np.all(fifth_house == house.loc[5]) and np.all(fifth_house == house.iloc[4]))\nTrue",
                  "hidden": false,
                  "locked": false
                },
                {
                  "code": ">>> bool(np.all(houses_3_7 == house.loc[[3, 7]]) and np.all(houses_3_7 == house.iloc[[2, 6]]))\nTrue",
                  "hidden": false,
                  "locked": false
                },
                {
                  "code": ">>> bool(price_10 == house.iloc[9, list(house.columns).index('price')] and price_10 == house.loc[10, 'price'])\nTrue",
                  "hidden": false,
                  "locked": false
                },
                {
                  "code": ">>> bool(np.all(city_rain_df == house.loc[[4, 6], ['City_Category', 'Rainfall']]))\nTrue",
                  "hidden": false,
                  "locked": false
                }
              ],
              "scored": true,
              "setup": "",
              "teardown": "",
              "type": "doctest"
            }
          ]
        },
        "q2": {
          "name": "q2",
          "points": [
            0.4,
            0.1
          ],
          "suites": [
            {
              "cases": [
                {
                  "code": ">>> bool(np.all(np_height_in == np_height_cm / 2.54))\nTrue",
                  "hidden": false,
                  "locked": false
                },
                {
                  "code": ">>> 'np_height_in' in locals()\nTrue",
                  "hidden": false,
                  "locked": false
                }
              ],
              "scored": true,
              "setup": "",
              "teardown": "",
              "type": "doctest"
            }
          ]
        },
        "q3": {
          "name": "q3",
          "points": [
            0.4,
            0.3,
            0.4,
            0.4
          ],
          "suites": [
            {
              "cases": [
                {
                  "code": ">>> bool(med_height == np.median(np_height_cm))\nTrue",
                  "hidden": false,
                  "locked": false
                },
                {
                  "code": ">>> bool(max_height == np.max(np_height_cm))\nTrue",
                  "hidden": false,
                  "locked": false
                },
                {
                  "code": ">>> bool(np.all(is_tall == (np_height_cm > (med_height + max_height) / 2)))\nTrue",
                  "hidden": false,
                  "locked": false
                },
                {
                  "code": ">>> bool(np.all(tall_heights == np_height_cm[np_height_cm > (med_height + max_height) / 2]) or np.all(tall_heights == np_height_in[np_height_cm > (med_height + max_height) / 2]))\nTrue",
                  "hidden": false,
                  "locked": false
                }
              ],
              "scored": true,
              "setup": "",
              "teardown": "",
              "type": "doctest"
            }
          ]
        },
        "q4": {
          "name": "q4",
          "points": [
            0.4,
            0.3,
            0.4,
            0.4
          ],
          "suites": [
            {
              "cases": [
                {
                  "code": ">>> bool(np.all(mid_height == np_height_cm[np_position == 'M']))\nTrue",
                  "hidden": false,
                  "locked": false
                },
                {
                  "code": ">>> bool(np.all(def_height == np_height_cm[np_position == 'D']))\nTrue",
                  "hidden": false,
                  "locked": false
                },
                {
                  "code": ">>> bool(np.all(mean_mid_height == np.mean(mid_height)) and np.all(sd_mid_height == np.std(mid_height)))\nTrue",
                  "hidden": false,
                  "locked": false
                },
                {
                  "code": ">>> bool(np.all(mean_def_height == np.mean(def_height)) and np.all(sd_def_height == np.std(def_height)))\nTrue",
                  "hidden": false,
                  "locked": false
                }
              ],
              "scored": true,
              "setup": "",
              "teardown": "",
              "type": "doctest"
            }
          ]
        },
        "q5": {
          "name": "q5",
          "points": 0.5,
          "suites": [
            {
              "cases": [
                {
                  "code": ">>> bool(np.all(corr == np.corrcoef(np_height_cm, np_dribbling))) or corr == np.corrcoef(np_height_cm, np_dribbling)[1, 0]\nTrue",
                  "hidden": false,
                  "locked": false
                }
              ],
              "scored": true,
              "setup": "",
              "teardown": "",
              "type": "doctest"
            }
          ]
        },
        "q8": {
          "name": "q8",
          "points": [
            0.2,
            0.1,
            0.2
          ],
          "suites": [
            {
              "cases": [
                {
                  "code": ">>> cr_rating == top_dict['Cristiano Ronaldo']['rating']\nTrue",
                  "hidden": false,
                  "locked": false
                },
                {
                  "code": ">>> new_player == {'rating': 89, 'position': 'A', 'height': 180, 'foot': 'Left'}\nTrue",
                  "hidden": false,
                  "locked": false
                },
                {
                  "code": ">>> top_dict['Lamine Yamal'] == new_player\nTrue",
                  "hidden": false,
                  "locked": false
                }
              ],
              "scored": true,
              "setup": "",
              "teardown": "",
              "type": "doctest"
            }
          ]
        },
        "q9": {
          "name": "q9",
          "points": [
            0.3,
            0.3,
            0.3,
            0.3,
            0.3
          ],
          "suites": [
            {
              "cases": [
                {
                  "code": ">>> bool(type(dist_hosp_series) == pd.core.series.Series and dist_hosp_series.shape == (720,) and (dist_hosp_series[932] == 14418))\nTrue",
                  "hidden": false,
                  "locked": false
                },
                {
                  "code": ">>> bool(type(dist_hosp_df) == pd.core.frame.DataFrame and dist_hosp_df.shape == (720, 1) and (dist_hosp_df.loc[932, 'Dist_Hospital'] == 14418))\nTrue",
                  "hidden": false,
                  "locked": false
                },
                {
                  "code": ">>> bool(type(builtup_parking_df) == pd.core.frame.DataFrame and builtup_parking_df.shape == (720, 2) and (builtup_parking_df.loc[210, 'Builtup'] == 1808) and (builtup_parking_df.loc[210, 'Parking'] == 'Not Provided'))\nTrue",
                  "hidden": false,
                  "locked": false
                },
                {
                  "code": ">>> first_4_obs.shape[0] == 4 and bool(np.all(first_4_obs == house.head(4)))\nTrue",
                  "hidden": false,
                  "locked": false
                },
                {
                  "code": ">>> next_3_obs.shape[0] == 3 and bool(np.all(next_3_obs == house.iloc[4:7]))\nTrue",
                  "hidden": false,
                  "locked": false
                }
              ],
              "scored": true,
              "setup": "",
              "teardown": "",
              "type": "doctest"
            }
          ]
        }
      }
    },
    "varInspector": {
      "cols": {
        "lenName": 16,
        "lenType": 16,
        "lenVar": 40
      },
      "kernels_config": {
        "python": {
          "delete_cmd_postfix": "",
          "delete_cmd_prefix": "del ",
          "library": "var_list.py",
          "varRefreshCmd": "print(var_dic_list())"
        },
        "r": {
          "delete_cmd_postfix": ") ",
          "delete_cmd_prefix": "rm(",
          "library": "var_list.r",
          "varRefreshCmd": "cat(var_dic_list()) "
        }
      },
      "position": {
        "height": "397px",
        "left": "1280px",
        "right": "20px",
        "top": "119px",
        "width": "558px"
      },
      "types_to_exclude": [
        "module",
        "function",
        "builtin_function_or_method",
        "instance",
        "_Feature"
      ],
      "window_display": false
    },
    "colab": {
      "provenance": []
    }
  },
  "nbformat": 4,
  "nbformat_minor": 5
}